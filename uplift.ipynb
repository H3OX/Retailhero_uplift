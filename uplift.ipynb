{
  "nbformat": 4,
  "nbformat_minor": 0,
  "metadata": {
    "colab": {
      "name": "uplift.ipynb",
      "provenance": [],
      "collapsed_sections": [],
      "machine_shape": "hm",
      "mount_file_id": "1W0A1n3TJG_pFBljvytwqQhvhktTOKVeA",
      "authorship_tag": "ABX9TyMgOffo/k7+4cW6ILoYV4IR",
      "include_colab_link": true
    },
    "kernelspec": {
      "name": "python3",
      "display_name": "Python 3"
    }
  },
  "cells": [
    {
      "cell_type": "markdown",
      "metadata": {
        "id": "view-in-github",
        "colab_type": "text"
      },
      "source": [
        "<a href=\"https://colab.research.google.com/github/H3OX/Retailhero_uplift/blob/master/uplift.ipynb\" target=\"_parent\"><img src=\"https://colab.research.google.com/assets/colab-badge.svg\" alt=\"Open In Colab\"/></a>"
      ]
    },
    {
      "cell_type": "code",
      "metadata": {
        "id": "IFw7tNaj2WTE",
        "colab_type": "code",
        "colab": {}
      },
      "source": [
        "import numpy as np\n",
        "import pandas as pd\n",
        "import xgboost as xgb\n",
        "import seaborn as sns\n",
        "import matplotlib.pyplot as plt\n",
        "from sklearn.model_selection import train_test_split\n",
        "from sklearn.model_selection import cross_val_score\n",
        "sns.set_style(\"darkgrid\")\n"
      ],
      "execution_count": 0,
      "outputs": []
    },
    {
      "cell_type": "code",
      "metadata": {
        "id": "Us1FyWYq21Rc",
        "colab_type": "code",
        "colab": {}
      },
      "source": [
        "path = 'drive/My Drive/uplift/data/'\n",
        "clients = pd.read_csv(path + 'clients.csv', index_col='client_id', parse_dates=['first_issue_date', 'first_redeem_date'])\n",
        "products = pd.read_csv(path + 'products.csv', index_col='product_id')\n",
        "purchases = pd.read_csv(path + 'purchases.csv', parse_dates=['transaction_datetime'])\n",
        "train = pd.read_csv(path + 'uplift_train.csv', index_col='client_id')\n",
        "test = pd.read_csv(path + 'uplift_test.csv', index_col='client_id')"
      ],
      "execution_count": 0,
      "outputs": []
    },
    {
      "cell_type": "code",
      "metadata": {
        "id": "hPkCvd0Z3zrK",
        "colab_type": "code",
        "outputId": "e5c73bc6-fd56-4fa6-ba5f-6e33e2e9627c",
        "colab": {
          "base_uri": "https://localhost:8080/",
          "height": 225
        }
      },
      "source": [
        "clients.head()"
      ],
      "execution_count": 121,
      "outputs": [
        {
          "output_type": "execute_result",
          "data": {
            "text/html": [
              "<div>\n",
              "<style scoped>\n",
              "    .dataframe tbody tr th:only-of-type {\n",
              "        vertical-align: middle;\n",
              "    }\n",
              "\n",
              "    .dataframe tbody tr th {\n",
              "        vertical-align: top;\n",
              "    }\n",
              "\n",
              "    .dataframe thead th {\n",
              "        text-align: right;\n",
              "    }\n",
              "</style>\n",
              "<table border=\"1\" class=\"dataframe\">\n",
              "  <thead>\n",
              "    <tr style=\"text-align: right;\">\n",
              "      <th></th>\n",
              "      <th>first_issue_date</th>\n",
              "      <th>first_redeem_date</th>\n",
              "      <th>age</th>\n",
              "      <th>gender</th>\n",
              "    </tr>\n",
              "    <tr>\n",
              "      <th>client_id</th>\n",
              "      <th></th>\n",
              "      <th></th>\n",
              "      <th></th>\n",
              "      <th></th>\n",
              "    </tr>\n",
              "  </thead>\n",
              "  <tbody>\n",
              "    <tr>\n",
              "      <th>000012768d</th>\n",
              "      <td>2017-08-05 15:40:48</td>\n",
              "      <td>2018-01-04 19:30:07</td>\n",
              "      <td>45</td>\n",
              "      <td>U</td>\n",
              "    </tr>\n",
              "    <tr>\n",
              "      <th>000036f903</th>\n",
              "      <td>2017-04-10 13:54:23</td>\n",
              "      <td>2017-04-23 12:37:56</td>\n",
              "      <td>72</td>\n",
              "      <td>F</td>\n",
              "    </tr>\n",
              "    <tr>\n",
              "      <th>000048b7a6</th>\n",
              "      <td>2018-12-15 13:33:11</td>\n",
              "      <td>NaT</td>\n",
              "      <td>68</td>\n",
              "      <td>F</td>\n",
              "    </tr>\n",
              "    <tr>\n",
              "      <th>000073194a</th>\n",
              "      <td>2017-05-23 12:56:14</td>\n",
              "      <td>2017-11-24 11:18:01</td>\n",
              "      <td>60</td>\n",
              "      <td>F</td>\n",
              "    </tr>\n",
              "    <tr>\n",
              "      <th>00007c7133</th>\n",
              "      <td>2017-05-22 16:17:08</td>\n",
              "      <td>2018-12-31 17:17:33</td>\n",
              "      <td>67</td>\n",
              "      <td>U</td>\n",
              "    </tr>\n",
              "  </tbody>\n",
              "</table>\n",
              "</div>"
            ],
            "text/plain": [
              "              first_issue_date   first_redeem_date  age gender\n",
              "client_id                                                     \n",
              "000012768d 2017-08-05 15:40:48 2018-01-04 19:30:07   45      U\n",
              "000036f903 2017-04-10 13:54:23 2017-04-23 12:37:56   72      F\n",
              "000048b7a6 2018-12-15 13:33:11                 NaT   68      F\n",
              "000073194a 2017-05-23 12:56:14 2017-11-24 11:18:01   60      F\n",
              "00007c7133 2017-05-22 16:17:08 2018-12-31 17:17:33   67      U"
            ]
          },
          "metadata": {
            "tags": []
          },
          "execution_count": 121
        }
      ]
    },
    {
      "cell_type": "code",
      "metadata": {
        "id": "fdoNlh7k4Zdr",
        "colab_type": "code",
        "outputId": "65dc6803-b950-4323-82ac-671781c6dcf7",
        "colab": {
          "base_uri": "https://localhost:8080/",
          "height": 225
        }
      },
      "source": [
        "products.head()"
      ],
      "execution_count": 122,
      "outputs": [
        {
          "output_type": "execute_result",
          "data": {
            "text/html": [
              "<div>\n",
              "<style scoped>\n",
              "    .dataframe tbody tr th:only-of-type {\n",
              "        vertical-align: middle;\n",
              "    }\n",
              "\n",
              "    .dataframe tbody tr th {\n",
              "        vertical-align: top;\n",
              "    }\n",
              "\n",
              "    .dataframe thead th {\n",
              "        text-align: right;\n",
              "    }\n",
              "</style>\n",
              "<table border=\"1\" class=\"dataframe\">\n",
              "  <thead>\n",
              "    <tr style=\"text-align: right;\">\n",
              "      <th></th>\n",
              "      <th>level_1</th>\n",
              "      <th>level_2</th>\n",
              "      <th>level_3</th>\n",
              "      <th>level_4</th>\n",
              "      <th>segment_id</th>\n",
              "      <th>brand_id</th>\n",
              "      <th>vendor_id</th>\n",
              "      <th>netto</th>\n",
              "      <th>is_own_trademark</th>\n",
              "      <th>is_alcohol</th>\n",
              "    </tr>\n",
              "    <tr>\n",
              "      <th>product_id</th>\n",
              "      <th></th>\n",
              "      <th></th>\n",
              "      <th></th>\n",
              "      <th></th>\n",
              "      <th></th>\n",
              "      <th></th>\n",
              "      <th></th>\n",
              "      <th></th>\n",
              "      <th></th>\n",
              "      <th></th>\n",
              "    </tr>\n",
              "  </thead>\n",
              "  <tbody>\n",
              "    <tr>\n",
              "      <th>0003020d3c</th>\n",
              "      <td>c3d3a8e8c6</td>\n",
              "      <td>c2a3ea8d5e</td>\n",
              "      <td>b7cda0ec0c</td>\n",
              "      <td>6376f2a852</td>\n",
              "      <td>123.0</td>\n",
              "      <td>394a54a7c1</td>\n",
              "      <td>9eaff48661</td>\n",
              "      <td>0.400</td>\n",
              "      <td>0</td>\n",
              "      <td>0</td>\n",
              "    </tr>\n",
              "    <tr>\n",
              "      <th>0003870676</th>\n",
              "      <td>e344ab2e71</td>\n",
              "      <td>52f13dac0c</td>\n",
              "      <td>d3cfe81323</td>\n",
              "      <td>6dc544533f</td>\n",
              "      <td>105.0</td>\n",
              "      <td>acd3dd483f</td>\n",
              "      <td>10486c3cf0</td>\n",
              "      <td>0.680</td>\n",
              "      <td>0</td>\n",
              "      <td>0</td>\n",
              "    </tr>\n",
              "    <tr>\n",
              "      <th>0003ceaf69</th>\n",
              "      <td>c3d3a8e8c6</td>\n",
              "      <td>f2333c90fb</td>\n",
              "      <td>419bc5b424</td>\n",
              "      <td>f6148afbc0</td>\n",
              "      <td>271.0</td>\n",
              "      <td>f597581079</td>\n",
              "      <td>764e660dda</td>\n",
              "      <td>0.500</td>\n",
              "      <td>0</td>\n",
              "      <td>0</td>\n",
              "    </tr>\n",
              "    <tr>\n",
              "      <th>000701e093</th>\n",
              "      <td>ec62ce61e3</td>\n",
              "      <td>4202626fcb</td>\n",
              "      <td>88a515c084</td>\n",
              "      <td>48cf3d488f</td>\n",
              "      <td>172.0</td>\n",
              "      <td>54a90fe769</td>\n",
              "      <td>03c2d70bad</td>\n",
              "      <td>0.112</td>\n",
              "      <td>0</td>\n",
              "      <td>0</td>\n",
              "    </tr>\n",
              "    <tr>\n",
              "      <th>0007149564</th>\n",
              "      <td>e344ab2e71</td>\n",
              "      <td>52f13dac0c</td>\n",
              "      <td>d3cfe81323</td>\n",
              "      <td>6dc544533f</td>\n",
              "      <td>105.0</td>\n",
              "      <td>63417fe1f3</td>\n",
              "      <td>f329130198</td>\n",
              "      <td>0.600</td>\n",
              "      <td>0</td>\n",
              "      <td>0</td>\n",
              "    </tr>\n",
              "  </tbody>\n",
              "</table>\n",
              "</div>"
            ],
            "text/plain": [
              "               level_1     level_2  ... is_own_trademark is_alcohol\n",
              "product_id                          ...                            \n",
              "0003020d3c  c3d3a8e8c6  c2a3ea8d5e  ...                0          0\n",
              "0003870676  e344ab2e71  52f13dac0c  ...                0          0\n",
              "0003ceaf69  c3d3a8e8c6  f2333c90fb  ...                0          0\n",
              "000701e093  ec62ce61e3  4202626fcb  ...                0          0\n",
              "0007149564  e344ab2e71  52f13dac0c  ...                0          0\n",
              "\n",
              "[5 rows x 10 columns]"
            ]
          },
          "metadata": {
            "tags": []
          },
          "execution_count": 122
        }
      ]
    },
    {
      "cell_type": "markdown",
      "metadata": {
        "id": "ENQAypjR5j-E",
        "colab_type": "text"
      },
      "source": [
        "## Преобразую графу даты в нормальный вид"
      ]
    },
    {
      "cell_type": "code",
      "metadata": {
        "id": "qOU6YLR04d0k",
        "colab_type": "code",
        "colab": {}
      },
      "source": [
        "purchases['date'] = purchases['transaction_datetime'].dt.date"
      ],
      "execution_count": 0,
      "outputs": []
    },
    {
      "cell_type": "code",
      "metadata": {
        "id": "fFlh9udoGdzO",
        "colab_type": "code",
        "outputId": "79c4cd44-7662-493e-e2a8-5bc7afa46266",
        "colab": {
          "base_uri": "https://localhost:8080/",
          "height": 299
        }
      },
      "source": [
        "purchases.head()"
      ],
      "execution_count": 124,
      "outputs": [
        {
          "output_type": "execute_result",
          "data": {
            "text/html": [
              "<div>\n",
              "<style scoped>\n",
              "    .dataframe tbody tr th:only-of-type {\n",
              "        vertical-align: middle;\n",
              "    }\n",
              "\n",
              "    .dataframe tbody tr th {\n",
              "        vertical-align: top;\n",
              "    }\n",
              "\n",
              "    .dataframe thead th {\n",
              "        text-align: right;\n",
              "    }\n",
              "</style>\n",
              "<table border=\"1\" class=\"dataframe\">\n",
              "  <thead>\n",
              "    <tr style=\"text-align: right;\">\n",
              "      <th></th>\n",
              "      <th>client_id</th>\n",
              "      <th>transaction_id</th>\n",
              "      <th>transaction_datetime</th>\n",
              "      <th>regular_points_received</th>\n",
              "      <th>express_points_received</th>\n",
              "      <th>regular_points_spent</th>\n",
              "      <th>express_points_spent</th>\n",
              "      <th>purchase_sum</th>\n",
              "      <th>store_id</th>\n",
              "      <th>product_id</th>\n",
              "      <th>product_quantity</th>\n",
              "      <th>trn_sum_from_iss</th>\n",
              "      <th>trn_sum_from_red</th>\n",
              "      <th>date</th>\n",
              "    </tr>\n",
              "  </thead>\n",
              "  <tbody>\n",
              "    <tr>\n",
              "      <th>0</th>\n",
              "      <td>000012768d</td>\n",
              "      <td>7e3e2e3984</td>\n",
              "      <td>2018-12-01 07:12:45</td>\n",
              "      <td>10.0</td>\n",
              "      <td>0.0</td>\n",
              "      <td>0.0</td>\n",
              "      <td>0.0</td>\n",
              "      <td>1007.0</td>\n",
              "      <td>54a4a11a29</td>\n",
              "      <td>9a80204f78</td>\n",
              "      <td>2.0</td>\n",
              "      <td>80.0</td>\n",
              "      <td>NaN</td>\n",
              "      <td>2018-12-01</td>\n",
              "    </tr>\n",
              "    <tr>\n",
              "      <th>1</th>\n",
              "      <td>000012768d</td>\n",
              "      <td>7e3e2e3984</td>\n",
              "      <td>2018-12-01 07:12:45</td>\n",
              "      <td>10.0</td>\n",
              "      <td>0.0</td>\n",
              "      <td>0.0</td>\n",
              "      <td>0.0</td>\n",
              "      <td>1007.0</td>\n",
              "      <td>54a4a11a29</td>\n",
              "      <td>da89ebd374</td>\n",
              "      <td>1.0</td>\n",
              "      <td>65.0</td>\n",
              "      <td>NaN</td>\n",
              "      <td>2018-12-01</td>\n",
              "    </tr>\n",
              "    <tr>\n",
              "      <th>2</th>\n",
              "      <td>000012768d</td>\n",
              "      <td>7e3e2e3984</td>\n",
              "      <td>2018-12-01 07:12:45</td>\n",
              "      <td>10.0</td>\n",
              "      <td>0.0</td>\n",
              "      <td>0.0</td>\n",
              "      <td>0.0</td>\n",
              "      <td>1007.0</td>\n",
              "      <td>54a4a11a29</td>\n",
              "      <td>0a95e1151d</td>\n",
              "      <td>1.0</td>\n",
              "      <td>24.0</td>\n",
              "      <td>NaN</td>\n",
              "      <td>2018-12-01</td>\n",
              "    </tr>\n",
              "    <tr>\n",
              "      <th>3</th>\n",
              "      <td>000012768d</td>\n",
              "      <td>7e3e2e3984</td>\n",
              "      <td>2018-12-01 07:12:45</td>\n",
              "      <td>10.0</td>\n",
              "      <td>0.0</td>\n",
              "      <td>0.0</td>\n",
              "      <td>0.0</td>\n",
              "      <td>1007.0</td>\n",
              "      <td>54a4a11a29</td>\n",
              "      <td>4055b15e4a</td>\n",
              "      <td>2.0</td>\n",
              "      <td>50.0</td>\n",
              "      <td>NaN</td>\n",
              "      <td>2018-12-01</td>\n",
              "    </tr>\n",
              "    <tr>\n",
              "      <th>4</th>\n",
              "      <td>000012768d</td>\n",
              "      <td>7e3e2e3984</td>\n",
              "      <td>2018-12-01 07:12:45</td>\n",
              "      <td>10.0</td>\n",
              "      <td>0.0</td>\n",
              "      <td>0.0</td>\n",
              "      <td>0.0</td>\n",
              "      <td>1007.0</td>\n",
              "      <td>54a4a11a29</td>\n",
              "      <td>a685f1916b</td>\n",
              "      <td>1.0</td>\n",
              "      <td>22.0</td>\n",
              "      <td>NaN</td>\n",
              "      <td>2018-12-01</td>\n",
              "    </tr>\n",
              "  </tbody>\n",
              "</table>\n",
              "</div>"
            ],
            "text/plain": [
              "    client_id transaction_id  ... trn_sum_from_red        date\n",
              "0  000012768d     7e3e2e3984  ...              NaN  2018-12-01\n",
              "1  000012768d     7e3e2e3984  ...              NaN  2018-12-01\n",
              "2  000012768d     7e3e2e3984  ...              NaN  2018-12-01\n",
              "3  000012768d     7e3e2e3984  ...              NaN  2018-12-01\n",
              "4  000012768d     7e3e2e3984  ...              NaN  2018-12-01\n",
              "\n",
              "[5 rows x 14 columns]"
            ]
          },
          "metadata": {
            "tags": []
          },
          "execution_count": 124
        }
      ]
    },
    {
      "cell_type": "code",
      "metadata": {
        "id": "HgqGJbuovA4x",
        "colab_type": "code",
        "colab": {
          "base_uri": "https://localhost:8080/",
          "height": 297
        },
        "outputId": "d4a92cbc-68f7-4118-9bb0-e862c3d0aedf"
      },
      "source": [
        "sns.distplot(purchases['regular_points_received'])"
      ],
      "execution_count": 127,
      "outputs": [
        {
          "output_type": "execute_result",
          "data": {
            "text/plain": [
              "<matplotlib.axes._subplots.AxesSubplot at 0x7f5b47776a90>"
            ]
          },
          "metadata": {
            "tags": []
          },
          "execution_count": 127
        },
        {
          "output_type": "display_data",
          "data": {
            "image/png": "[encoded data removed]",
            "text/plain": [
              "<Figure size 432x288 with 1 Axes>"
            ]
          },
          "metadata": {
            "tags": []
          }
        }
      ]
    },
    {
      "cell_type": "code",
      "metadata": {
        "id": "FPVCzheivRJh",
        "colab_type": "code",
        "colab": {
          "base_uri": "https://localhost:8080/",
          "height": 297
        },
        "outputId": "e49a2721-ec95-464b-f6e5-09b3bdfe149f"
      },
      "source": [
        "sns.distplot(purchases['purchase_sum'])"
      ],
      "execution_count": 128,
      "outputs": [
        {
          "output_type": "execute_result",
          "data": {
            "text/plain": [
              "<matplotlib.axes._subplots.AxesSubplot at 0x7f5b75e53470>"
            ]
          },
          "metadata": {
            "tags": []
          },
          "execution_count": 128
        },
        {
          "output_type": "display_data",
          "data": {
            "image/png": "[encoded data removed]",
            "text/plain": [
              "<Figure size 432x288 with 1 Axes>"
            ]
          },
          "metadata": {
            "tags": []
          }
        }
      ]
    },
    {
      "cell_type": "markdown",
      "metadata": {
        "id": "j4xBQP9E5ntd",
        "colab_type": "text"
      },
      "source": [
        "Сгруппирую покупки по дням"
      ]
    },
    {
      "cell_type": "code",
      "metadata": {
        "id": "Q_lXC7tJ9jDj",
        "colab_type": "code",
        "colab": {}
      },
      "source": [
        "features = ['regular_points_received', 'express_points_received', 'regular_points_spent', 'express_points_spent', 'purchase_sum', 'product_quantity', 'store_id']\n",
        "df = purchases.groupby(['client_id', 'transaction_id'])[features].first()\n",
        "df_features = pd.concat([df.groupby('client_id')['purchase_sum'].count(), df.groupby('client_id').sum(), df.groupby('client_id')[['store_id']].nunique()], axis=1)\n",
        "df_features.columns = ['transactions_amount', 'rpr', 'epr', 'rps', 'eps', 'psum', 'pqsum', 's_unique']"
      ],
      "execution_count": 0,
      "outputs": []
    },
    {
      "cell_type": "code",
      "metadata": {
        "id": "rTmiyMo8H3x3",
        "colab_type": "code",
        "outputId": "dec3c6f4-f51f-40d9-f243-97c02ead88d4",
        "colab": {
          "base_uri": "https://localhost:8080/",
          "height": 431
        }
      },
      "source": [
        "df_features"
      ],
      "execution_count": 132,
      "outputs": [
        {
          "output_type": "execute_result",
          "data": {
            "text/html": [
              "<div>\n",
              "<style scoped>\n",
              "    .dataframe tbody tr th:only-of-type {\n",
              "        vertical-align: middle;\n",
              "    }\n",
              "\n",
              "    .dataframe tbody tr th {\n",
              "        vertical-align: top;\n",
              "    }\n",
              "\n",
              "    .dataframe thead th {\n",
              "        text-align: right;\n",
              "    }\n",
              "</style>\n",
              "<table border=\"1\" class=\"dataframe\">\n",
              "  <thead>\n",
              "    <tr style=\"text-align: right;\">\n",
              "      <th></th>\n",
              "      <th>transactions_amount</th>\n",
              "      <th>rpr</th>\n",
              "      <th>epr</th>\n",
              "      <th>rps</th>\n",
              "      <th>eps</th>\n",
              "      <th>psum</th>\n",
              "      <th>pqsum</th>\n",
              "      <th>s_unique</th>\n",
              "    </tr>\n",
              "    <tr>\n",
              "      <th>client_id</th>\n",
              "      <th></th>\n",
              "      <th></th>\n",
              "      <th></th>\n",
              "      <th></th>\n",
              "      <th></th>\n",
              "      <th></th>\n",
              "      <th></th>\n",
              "      <th></th>\n",
              "    </tr>\n",
              "  </thead>\n",
              "  <tbody>\n",
              "    <tr>\n",
              "      <th>000012768d</th>\n",
              "      <td>4</td>\n",
              "      <td>25.7</td>\n",
              "      <td>0.0</td>\n",
              "      <td>0.0</td>\n",
              "      <td>0.0</td>\n",
              "      <td>2803.00</td>\n",
              "      <td>8.0</td>\n",
              "      <td>3</td>\n",
              "    </tr>\n",
              "    <tr>\n",
              "      <th>000036f903</th>\n",
              "      <td>32</td>\n",
              "      <td>54.9</td>\n",
              "      <td>60.0</td>\n",
              "      <td>0.0</td>\n",
              "      <td>0.0</td>\n",
              "      <td>9805.00</td>\n",
              "      <td>29.0</td>\n",
              "      <td>5</td>\n",
              "    </tr>\n",
              "    <tr>\n",
              "      <th>000048b7a6</th>\n",
              "      <td>8</td>\n",
              "      <td>26.5</td>\n",
              "      <td>0.0</td>\n",
              "      <td>0.0</td>\n",
              "      <td>0.0</td>\n",
              "      <td>3772.00</td>\n",
              "      <td>14.0</td>\n",
              "      <td>2</td>\n",
              "    </tr>\n",
              "    <tr>\n",
              "      <th>000073194a</th>\n",
              "      <td>17</td>\n",
              "      <td>74.9</td>\n",
              "      <td>0.0</td>\n",
              "      <td>-96.0</td>\n",
              "      <td>0.0</td>\n",
              "      <td>9601.40</td>\n",
              "      <td>20.0</td>\n",
              "      <td>1</td>\n",
              "    </tr>\n",
              "    <tr>\n",
              "      <th>00007c7133</th>\n",
              "      <td>11</td>\n",
              "      <td>56.6</td>\n",
              "      <td>0.0</td>\n",
              "      <td>-240.0</td>\n",
              "      <td>0.0</td>\n",
              "      <td>6719.84</td>\n",
              "      <td>11.0</td>\n",
              "      <td>2</td>\n",
              "    </tr>\n",
              "    <tr>\n",
              "      <th>...</th>\n",
              "      <td>...</td>\n",
              "      <td>...</td>\n",
              "      <td>...</td>\n",
              "      <td>...</td>\n",
              "      <td>...</td>\n",
              "      <td>...</td>\n",
              "      <td>...</td>\n",
              "      <td>...</td>\n",
              "    </tr>\n",
              "    <tr>\n",
              "      <th>fffece623e</th>\n",
              "      <td>24</td>\n",
              "      <td>38.4</td>\n",
              "      <td>0.0</td>\n",
              "      <td>-68.0</td>\n",
              "      <td>0.0</td>\n",
              "      <td>6530.01</td>\n",
              "      <td>23.0</td>\n",
              "      <td>3</td>\n",
              "    </tr>\n",
              "    <tr>\n",
              "      <th>ffff3dfff8</th>\n",
              "      <td>17</td>\n",
              "      <td>117.9</td>\n",
              "      <td>0.0</td>\n",
              "      <td>-182.0</td>\n",
              "      <td>0.0</td>\n",
              "      <td>7264.84</td>\n",
              "      <td>19.0</td>\n",
              "      <td>1</td>\n",
              "    </tr>\n",
              "    <tr>\n",
              "      <th>ffffaab9da</th>\n",
              "      <td>7</td>\n",
              "      <td>34.0</td>\n",
              "      <td>0.0</td>\n",
              "      <td>-6.0</td>\n",
              "      <td>0.0</td>\n",
              "      <td>3791.00</td>\n",
              "      <td>15.0</td>\n",
              "      <td>1</td>\n",
              "    </tr>\n",
              "    <tr>\n",
              "      <th>ffffeb5619</th>\n",
              "      <td>7</td>\n",
              "      <td>117.5</td>\n",
              "      <td>0.0</td>\n",
              "      <td>0.0</td>\n",
              "      <td>0.0</td>\n",
              "      <td>15226.22</td>\n",
              "      <td>11.0</td>\n",
              "      <td>2</td>\n",
              "    </tr>\n",
              "    <tr>\n",
              "      <th>fffff6ce77</th>\n",
              "      <td>32</td>\n",
              "      <td>221.3</td>\n",
              "      <td>0.0</td>\n",
              "      <td>-302.0</td>\n",
              "      <td>0.0</td>\n",
              "      <td>18560.59</td>\n",
              "      <td>41.0</td>\n",
              "      <td>3</td>\n",
              "    </tr>\n",
              "  </tbody>\n",
              "</table>\n",
              "<p>400162 rows × 8 columns</p>\n",
              "</div>"
            ],
            "text/plain": [
              "            transactions_amount    rpr   epr  ...      psum  pqsum  s_unique\n",
              "client_id                                     ...                           \n",
              "000012768d                    4   25.7   0.0  ...   2803.00    8.0         3\n",
              "000036f903                   32   54.9  60.0  ...   9805.00   29.0         5\n",
              "000048b7a6                    8   26.5   0.0  ...   3772.00   14.0         2\n",
              "000073194a                   17   74.9   0.0  ...   9601.40   20.0         1\n",
              "00007c7133                   11   56.6   0.0  ...   6719.84   11.0         2\n",
              "...                         ...    ...   ...  ...       ...    ...       ...\n",
              "fffece623e                   24   38.4   0.0  ...   6530.01   23.0         3\n",
              "ffff3dfff8                   17  117.9   0.0  ...   7264.84   19.0         1\n",
              "ffffaab9da                    7   34.0   0.0  ...   3791.00   15.0         1\n",
              "ffffeb5619                    7  117.5   0.0  ...  15226.22   11.0         2\n",
              "fffff6ce77                   32  221.3   0.0  ...  18560.59   41.0         3\n",
              "\n",
              "[400162 rows x 8 columns]"
            ]
          },
          "metadata": {
            "tags": []
          },
          "execution_count": 132
        }
      ]
    },
    {
      "cell_type": "code",
      "metadata": {
        "id": "rG-QYgZsKMQG",
        "colab_type": "code",
        "colab": {}
      },
      "source": [
        "data = pd.concat([train, df_features, clients], axis=1, sort=True)"
      ],
      "execution_count": 0,
      "outputs": []
    },
    {
      "cell_type": "code",
      "metadata": {
        "id": "1VZ2ZkSsMWiy",
        "colab_type": "code",
        "colab": {}
      },
      "source": [
        "data['first_issue_date'] = data['first_issue_date'].dt.weekday\n",
        "data['first_redeem_date'] = data['first_redeem_date'].dt.weekday\n",
        "data = data[data['target'].notnull()]\n",
        "data = data[data['gender'] != 'U']\n",
        "data = data[data['first_redeem_date'].notnull()]"
      ],
      "execution_count": 0,
      "outputs": []
    },
    {
      "cell_type": "code",
      "metadata": {
        "id": "79qne783NGXX",
        "colab_type": "code",
        "colab": {}
      },
      "source": [
        "data['gender'].replace({\n",
        "    'F': 1,\n",
        "    'M': 0\n",
        "}, inplace=True)\n",
        "data['gender'] = data['gender'].astype(int)"
      ],
      "execution_count": 0,
      "outputs": []
    },
    {
      "cell_type": "code",
      "metadata": {
        "id": "Kk6EI94DOAXk",
        "colab_type": "code",
        "outputId": "f7005a8f-e6a0-4e0a-ae50-a979130cfade",
        "colab": {
          "base_uri": "https://localhost:8080/",
          "height": 343
        }
      },
      "source": [
        "data.head(10)"
      ],
      "execution_count": 136,
      "outputs": [
        {
          "output_type": "execute_result",
          "data": {
            "text/html": [
              "<div>\n",
              "<style scoped>\n",
              "    .dataframe tbody tr th:only-of-type {\n",
              "        vertical-align: middle;\n",
              "    }\n",
              "\n",
              "    .dataframe tbody tr th {\n",
              "        vertical-align: top;\n",
              "    }\n",
              "\n",
              "    .dataframe thead th {\n",
              "        text-align: right;\n",
              "    }\n",
              "</style>\n",
              "<table border=\"1\" class=\"dataframe\">\n",
              "  <thead>\n",
              "    <tr style=\"text-align: right;\">\n",
              "      <th></th>\n",
              "      <th>treatment_flg</th>\n",
              "      <th>target</th>\n",
              "      <th>transactions_amount</th>\n",
              "      <th>rpr</th>\n",
              "      <th>epr</th>\n",
              "      <th>rps</th>\n",
              "      <th>eps</th>\n",
              "      <th>psum</th>\n",
              "      <th>pqsum</th>\n",
              "      <th>s_unique</th>\n",
              "      <th>first_issue_date</th>\n",
              "      <th>first_redeem_date</th>\n",
              "      <th>age</th>\n",
              "      <th>gender</th>\n",
              "    </tr>\n",
              "  </thead>\n",
              "  <tbody>\n",
              "    <tr>\n",
              "      <th>000036f903</th>\n",
              "      <td>1.0</td>\n",
              "      <td>1.0</td>\n",
              "      <td>32</td>\n",
              "      <td>54.9</td>\n",
              "      <td>60.0</td>\n",
              "      <td>0.0</td>\n",
              "      <td>0.0</td>\n",
              "      <td>9805.00</td>\n",
              "      <td>29.0</td>\n",
              "      <td>5</td>\n",
              "      <td>0</td>\n",
              "      <td>6.0</td>\n",
              "      <td>72</td>\n",
              "      <td>1</td>\n",
              "    </tr>\n",
              "    <tr>\n",
              "      <th>0001f552b0</th>\n",
              "      <td>1.0</td>\n",
              "      <td>1.0</td>\n",
              "      <td>15</td>\n",
              "      <td>78.9</td>\n",
              "      <td>0.0</td>\n",
              "      <td>0.0</td>\n",
              "      <td>0.0</td>\n",
              "      <td>6155.18</td>\n",
              "      <td>12.0</td>\n",
              "      <td>4</td>\n",
              "      <td>4</td>\n",
              "      <td>1.0</td>\n",
              "      <td>33</td>\n",
              "      <td>1</td>\n",
              "    </tr>\n",
              "    <tr>\n",
              "      <th>000220a0a7</th>\n",
              "      <td>0.0</td>\n",
              "      <td>1.0</td>\n",
              "      <td>15</td>\n",
              "      <td>104.1</td>\n",
              "      <td>0.0</td>\n",
              "      <td>0.0</td>\n",
              "      <td>0.0</td>\n",
              "      <td>8606.57</td>\n",
              "      <td>26.0</td>\n",
              "      <td>5</td>\n",
              "      <td>5</td>\n",
              "      <td>3.0</td>\n",
              "      <td>115</td>\n",
              "      <td>0</td>\n",
              "    </tr>\n",
              "    <tr>\n",
              "      <th>00031cbbe6</th>\n",
              "      <td>0.0</td>\n",
              "      <td>1.0</td>\n",
              "      <td>29</td>\n",
              "      <td>63.7</td>\n",
              "      <td>0.0</td>\n",
              "      <td>-60.0</td>\n",
              "      <td>0.0</td>\n",
              "      <td>9266.53</td>\n",
              "      <td>26.0</td>\n",
              "      <td>3</td>\n",
              "      <td>6</td>\n",
              "      <td>6.0</td>\n",
              "      <td>48</td>\n",
              "      <td>1</td>\n",
              "    </tr>\n",
              "    <tr>\n",
              "      <th>0004231e2a</th>\n",
              "      <td>1.0</td>\n",
              "      <td>0.0</td>\n",
              "      <td>16</td>\n",
              "      <td>62.1</td>\n",
              "      <td>0.0</td>\n",
              "      <td>0.0</td>\n",
              "      <td>0.0</td>\n",
              "      <td>7967.00</td>\n",
              "      <td>25.0</td>\n",
              "      <td>2</td>\n",
              "      <td>3</td>\n",
              "      <td>5.0</td>\n",
              "      <td>56</td>\n",
              "      <td>1</td>\n",
              "    </tr>\n",
              "    <tr>\n",
              "      <th>00047b3720</th>\n",
              "      <td>1.0</td>\n",
              "      <td>0.0</td>\n",
              "      <td>35</td>\n",
              "      <td>144.0</td>\n",
              "      <td>0.0</td>\n",
              "      <td>-4.0</td>\n",
              "      <td>0.0</td>\n",
              "      <td>14841.09</td>\n",
              "      <td>39.0</td>\n",
              "      <td>3</td>\n",
              "      <td>5</td>\n",
              "      <td>5.0</td>\n",
              "      <td>53</td>\n",
              "      <td>0</td>\n",
              "    </tr>\n",
              "    <tr>\n",
              "      <th>00065f11c7</th>\n",
              "      <td>0.0</td>\n",
              "      <td>1.0</td>\n",
              "      <td>107</td>\n",
              "      <td>890.6</td>\n",
              "      <td>0.0</td>\n",
              "      <td>-817.0</td>\n",
              "      <td>-30.0</td>\n",
              "      <td>79920.91</td>\n",
              "      <td>231.0</td>\n",
              "      <td>2</td>\n",
              "      <td>1</td>\n",
              "      <td>4.0</td>\n",
              "      <td>31</td>\n",
              "      <td>0</td>\n",
              "    </tr>\n",
              "    <tr>\n",
              "      <th>0006b9ad75</th>\n",
              "      <td>1.0</td>\n",
              "      <td>1.0</td>\n",
              "      <td>16</td>\n",
              "      <td>47.6</td>\n",
              "      <td>0.0</td>\n",
              "      <td>-38.0</td>\n",
              "      <td>0.0</td>\n",
              "      <td>6651.52</td>\n",
              "      <td>17.0</td>\n",
              "      <td>2</td>\n",
              "      <td>3</td>\n",
              "      <td>1.0</td>\n",
              "      <td>61</td>\n",
              "      <td>1</td>\n",
              "    </tr>\n",
              "    <tr>\n",
              "      <th>00071890c8</th>\n",
              "      <td>0.0</td>\n",
              "      <td>1.0</td>\n",
              "      <td>3</td>\n",
              "      <td>14.9</td>\n",
              "      <td>0.0</td>\n",
              "      <td>0.0</td>\n",
              "      <td>0.0</td>\n",
              "      <td>1975.65</td>\n",
              "      <td>4.0</td>\n",
              "      <td>2</td>\n",
              "      <td>1</td>\n",
              "      <td>6.0</td>\n",
              "      <td>49</td>\n",
              "      <td>1</td>\n",
              "    </tr>\n",
              "    <tr>\n",
              "      <th>0007667c60</th>\n",
              "      <td>0.0</td>\n",
              "      <td>1.0</td>\n",
              "      <td>4</td>\n",
              "      <td>33.5</td>\n",
              "      <td>0.0</td>\n",
              "      <td>-62.0</td>\n",
              "      <td>-30.0</td>\n",
              "      <td>3338.52</td>\n",
              "      <td>4.0</td>\n",
              "      <td>1</td>\n",
              "      <td>4</td>\n",
              "      <td>5.0</td>\n",
              "      <td>46</td>\n",
              "      <td>0</td>\n",
              "    </tr>\n",
              "  </tbody>\n",
              "</table>\n",
              "</div>"
            ],
            "text/plain": [
              "            treatment_flg  target  ...  age  gender\n",
              "000036f903            1.0     1.0  ...   72       1\n",
              "0001f552b0            1.0     1.0  ...   33       1\n",
              "000220a0a7            0.0     1.0  ...  115       0\n",
              "00031cbbe6            0.0     1.0  ...   48       1\n",
              "0004231e2a            1.0     0.0  ...   56       1\n",
              "00047b3720            1.0     0.0  ...   53       0\n",
              "00065f11c7            0.0     1.0  ...   31       0\n",
              "0006b9ad75            1.0     1.0  ...   61       1\n",
              "00071890c8            0.0     1.0  ...   49       1\n",
              "0007667c60            0.0     1.0  ...   46       0\n",
              "\n",
              "[10 rows x 14 columns]"
            ]
          },
          "metadata": {
            "tags": []
          },
          "execution_count": 136
        }
      ]
    },
    {
      "cell_type": "code",
      "metadata": {
        "id": "saxIosAHxOpR",
        "colab_type": "code",
        "colab": {
          "base_uri": "https://localhost:8080/",
          "height": 296
        },
        "outputId": "eeb0523a-e654-4f90-e4e8-b5ac3ccbd256"
      },
      "source": [
        "sns.distplot(data['pqsum'])"
      ],
      "execution_count": 144,
      "outputs": [
        {
          "output_type": "execute_result",
          "data": {
            "text/plain": [
              "<matplotlib.axes._subplots.AxesSubplot at 0x7f5b7454dbe0>"
            ]
          },
          "metadata": {
            "tags": []
          },
          "execution_count": 144
        },
        {
          "output_type": "display_data",
          "data": {
            "image/png": "[encoded data removed]",
            "text/plain": [
              "<Figure size 432x288 with 1 Axes>"
            ]
          },
          "metadata": {
            "tags": []
          }
        }
      ]
    },
    {
      "cell_type": "code",
      "metadata": {
        "id": "6TApBrR-wufQ",
        "colab_type": "code",
        "colab": {
          "base_uri": "https://localhost:8080/",
          "height": 296
        },
        "outputId": "07aae1a9-86c9-40df-ab17-af8f1c18c07b"
      },
      "source": [
        "sns.countplot(data['target'])"
      ],
      "execution_count": 138,
      "outputs": [
        {
          "output_type": "execute_result",
          "data": {
            "text/plain": [
              "<matplotlib.axes._subplots.AxesSubplot at 0x7f5b75d1e390>"
            ]
          },
          "metadata": {
            "tags": []
          },
          "execution_count": 138
        },
        {
          "output_type": "display_data",
          "data": {
            "image/png": "[encoded data removed]",
            "text/plain": [
              "<Figure size 432x288 with 1 Axes>"
            ]
          },
          "metadata": {
            "tags": []
          }
        }
      ]
    },
    {
      "cell_type": "code",
      "metadata": {
        "id": "-_D8leLhw5uk",
        "colab_type": "code",
        "colab": {
          "base_uri": "https://localhost:8080/",
          "height": 312
        },
        "outputId": "ec7c02d7-3958-4239-86bd-ecf8a9d9d361"
      },
      "source": [
        "sns.distplot(data['age'])\n",
        "plt.title('Распределение возрастов')"
      ],
      "execution_count": 143,
      "outputs": [
        {
          "output_type": "execute_result",
          "data": {
            "text/plain": [
              "Text(0.5, 1.0, 'Распределение возрастов')"
            ]
          },
          "metadata": {
            "tags": []
          },
          "execution_count": 143
        },
        {
          "output_type": "display_data",
          "data": {
            "image/png": "[encoded data removed]",
            "text/plain": [
              "<Figure size 432x288 with 1 Axes>"
            ]
          },
          "metadata": {
            "tags": []
          }
        }
      ]
    },
    {
      "cell_type": "markdown",
      "metadata": {
        "id": "2eYphl53P7KS",
        "colab_type": "text"
      },
      "source": [
        "## Train test split"
      ]
    },
    {
      "cell_type": "code",
      "metadata": {
        "id": "4J75lUiqP_vU",
        "colab_type": "code",
        "outputId": "ea1cb2ff-005f-496b-97c3-3155cdb114e5",
        "colab": {
          "base_uri": "https://localhost:8080/",
          "height": 101
        }
      },
      "source": [
        "treatment_1 = data[data['treatment_flg'] == 1]\n",
        "treatment_1.drop('treatment_flg', axis=1, inplace=True)\n",
        "y = treatment_1['target']\n",
        "X = treatment_1.drop('target', axis=1).values\n",
        "X_train, X_test, y_train, y_test = train_test_split(X, y, test_size=0.3, random_state=42)\n",
        "eval_set = [(X_train, y_train), (X_test, y_test)]"
      ],
      "execution_count": 145,
      "outputs": [
        {
          "output_type": "stream",
          "text": [
            "/usr/local/lib/python3.6/dist-packages/pandas/core/frame.py:4117: SettingWithCopyWarning: \n",
            "A value is trying to be set on a copy of a slice from a DataFrame\n",
            "\n",
            "See the caveats in the documentation: http://pandas.pydata.org/pandas-docs/stable/user_guide/indexing.html#returning-a-view-versus-a-copy\n",
            "  errors=errors,\n"
          ],
          "name": "stderr"
        }
      ]
    },
    {
      "cell_type": "code",
      "metadata": {
        "id": "URjQL3HssAv7",
        "colab_type": "code",
        "colab": {
          "base_uri": "https://localhost:8080/",
          "height": 339
        },
        "outputId": "125e71ca-51ab-4547-dac8-9b55affb86e1"
      },
      "source": [
        "from sklearn.tree import DecisionTreeClassifier\n",
        "from sklearn.linear_model import LogisticRegression\n",
        "from sklearn.neural_network import MLPClassifier\n",
        "\n",
        "tree = DecisionTreeClassifier()\n",
        "reg = LogisticRegression()\n",
        "mlp = MLPClassifier()\n",
        "\n",
        "tree.fit(X_train, y_train)\n",
        "reg.fit(X_train, y_train)\n",
        "mlp.fit(X_train, y_train)"
      ],
      "execution_count": 146,
      "outputs": [
        {
          "output_type": "stream",
          "text": [
            "/usr/local/lib/python3.6/dist-packages/sklearn/linear_model/_logistic.py:940: ConvergenceWarning: lbfgs failed to converge (status=1):\n",
            "STOP: TOTAL NO. of ITERATIONS REACHED LIMIT.\n",
            "\n",
            "Increase the number of iterations (max_iter) or scale the data as shown in:\n",
            "    https://scikit-learn.org/stable/modules/preprocessing.html\n",
            "Please also refer to the documentation for alternative solver options:\n",
            "    https://scikit-learn.org/stable/modules/linear_model.html#logistic-regression\n",
            "  extra_warning_msg=_LOGISTIC_SOLVER_CONVERGENCE_MSG)\n",
            "/usr/local/lib/python3.6/dist-packages/sklearn/neural_network/_multilayer_perceptron.py:571: ConvergenceWarning: Stochastic Optimizer: Maximum iterations (200) reached and the optimization hasn't converged yet.\n",
            "  % self.max_iter, ConvergenceWarning)\n"
          ],
          "name": "stderr"
        },
        {
          "output_type": "execute_result",
          "data": {
            "text/plain": [
              "MLPClassifier(activation='relu', alpha=0.0001, batch_size='auto', beta_1=0.9,\n",
              "              beta_2=0.999, early_stopping=False, epsilon=1e-08,\n",
              "              hidden_layer_sizes=(100,), learning_rate='constant',\n",
              "              learning_rate_init=0.001, max_fun=15000, max_iter=200,\n",
              "              momentum=0.9, n_iter_no_change=10, nesterovs_momentum=True,\n",
              "              power_t=0.5, random_state=None, shuffle=True, solver='adam',\n",
              "              tol=0.0001, validation_fraction=0.1, verbose=False,\n",
              "              warm_start=False)"
            ]
          },
          "metadata": {
            "tags": []
          },
          "execution_count": 146
        }
      ]
    },
    {
      "cell_type": "code",
      "metadata": {
        "id": "vmYhPVCuSAb0",
        "colab_type": "code",
        "colab": {}
      },
      "source": [
        "param_grid = {\n",
        "    'learning_rate': 0.03,\n",
        "    'n_estimators': 100,\n",
        "    'max_depth': 4,\n",
        "    'subsample': 0.8,\n",
        "    'gamma': 0.1,\n",
        "    'colsample_bytree': 0.7\n",
        "}\n",
        "\n",
        "cv = xgb.cv(param_grid, xgb_data, num_boost_round=5000, stratified=True, metrics=['auc'])"
      ],
      "execution_count": 0,
      "outputs": []
    },
    {
      "cell_type": "code",
      "metadata": {
        "id": "iEfcYHiaRJhH",
        "colab_type": "code",
        "colab": {
          "base_uri": "https://localhost:8080/",
          "height": 402
        },
        "outputId": "65690745-9a3f-42e6-fcea-4a8f32dabba4"
      },
      "source": [
        "cv"
      ],
      "execution_count": 148,
      "outputs": [
        {
          "output_type": "execute_result",
          "data": {
            "text/html": [
              "<div>\n",
              "<style scoped>\n",
              "    .dataframe tbody tr th:only-of-type {\n",
              "        vertical-align: middle;\n",
              "    }\n",
              "\n",
              "    .dataframe tbody tr th {\n",
              "        vertical-align: top;\n",
              "    }\n",
              "\n",
              "    .dataframe thead th {\n",
              "        text-align: right;\n",
              "    }\n",
              "</style>\n",
              "<table border=\"1\" class=\"dataframe\">\n",
              "  <thead>\n",
              "    <tr style=\"text-align: right;\">\n",
              "      <th></th>\n",
              "      <th>train-auc-mean</th>\n",
              "      <th>train-auc-std</th>\n",
              "      <th>test-auc-mean</th>\n",
              "      <th>test-auc-std</th>\n",
              "    </tr>\n",
              "  </thead>\n",
              "  <tbody>\n",
              "    <tr>\n",
              "      <th>0</th>\n",
              "      <td>0.739025</td>\n",
              "      <td>0.003860</td>\n",
              "      <td>0.736034</td>\n",
              "      <td>0.005629</td>\n",
              "    </tr>\n",
              "    <tr>\n",
              "      <th>1</th>\n",
              "      <td>0.740292</td>\n",
              "      <td>0.002202</td>\n",
              "      <td>0.737654</td>\n",
              "      <td>0.006898</td>\n",
              "    </tr>\n",
              "    <tr>\n",
              "      <th>2</th>\n",
              "      <td>0.739930</td>\n",
              "      <td>0.001210</td>\n",
              "      <td>0.737105</td>\n",
              "      <td>0.007677</td>\n",
              "    </tr>\n",
              "    <tr>\n",
              "      <th>3</th>\n",
              "      <td>0.740634</td>\n",
              "      <td>0.001814</td>\n",
              "      <td>0.737439</td>\n",
              "      <td>0.007854</td>\n",
              "    </tr>\n",
              "    <tr>\n",
              "      <th>4</th>\n",
              "      <td>0.741690</td>\n",
              "      <td>0.002130</td>\n",
              "      <td>0.738396</td>\n",
              "      <td>0.007350</td>\n",
              "    </tr>\n",
              "    <tr>\n",
              "      <th>...</th>\n",
              "      <td>...</td>\n",
              "      <td>...</td>\n",
              "      <td>...</td>\n",
              "      <td>...</td>\n",
              "    </tr>\n",
              "    <tr>\n",
              "      <th>4995</th>\n",
              "      <td>0.910914</td>\n",
              "      <td>0.000699</td>\n",
              "      <td>0.721295</td>\n",
              "      <td>0.004575</td>\n",
              "    </tr>\n",
              "    <tr>\n",
              "      <th>4996</th>\n",
              "      <td>0.910934</td>\n",
              "      <td>0.000709</td>\n",
              "      <td>0.721284</td>\n",
              "      <td>0.004578</td>\n",
              "    </tr>\n",
              "    <tr>\n",
              "      <th>4997</th>\n",
              "      <td>0.910958</td>\n",
              "      <td>0.000705</td>\n",
              "      <td>0.721274</td>\n",
              "      <td>0.004578</td>\n",
              "    </tr>\n",
              "    <tr>\n",
              "      <th>4998</th>\n",
              "      <td>0.910980</td>\n",
              "      <td>0.000713</td>\n",
              "      <td>0.721277</td>\n",
              "      <td>0.004574</td>\n",
              "    </tr>\n",
              "    <tr>\n",
              "      <th>4999</th>\n",
              "      <td>0.911007</td>\n",
              "      <td>0.000730</td>\n",
              "      <td>0.721272</td>\n",
              "      <td>0.004579</td>\n",
              "    </tr>\n",
              "  </tbody>\n",
              "</table>\n",
              "<p>5000 rows × 4 columns</p>\n",
              "</div>"
            ],
            "text/plain": [
              "      train-auc-mean  train-auc-std  test-auc-mean  test-auc-std\n",
              "0           0.739025       0.003860       0.736034      0.005629\n",
              "1           0.740292       0.002202       0.737654      0.006898\n",
              "2           0.739930       0.001210       0.737105      0.007677\n",
              "3           0.740634       0.001814       0.737439      0.007854\n",
              "4           0.741690       0.002130       0.738396      0.007350\n",
              "...              ...            ...            ...           ...\n",
              "4995        0.910914       0.000699       0.721295      0.004575\n",
              "4996        0.910934       0.000709       0.721284      0.004578\n",
              "4997        0.910958       0.000705       0.721274      0.004578\n",
              "4998        0.910980       0.000713       0.721277      0.004574\n",
              "4999        0.911007       0.000730       0.721272      0.004579\n",
              "\n",
              "[5000 rows x 4 columns]"
            ]
          },
          "metadata": {
            "tags": []
          },
          "execution_count": 148
        }
      ]
    },
    {
      "cell_type": "code",
      "metadata": {
        "id": "a_NdptCORJjW",
        "colab_type": "code",
        "colab": {
          "base_uri": "https://localhost:8080/",
          "height": 1000
        },
        "outputId": "b2897629-3810-42a9-ec91-e5504dfcadeb"
      },
      "source": [
        "model = xgb.XGBClassifier(**param_grid)\n",
        "model.fit(X_train, y_train, eval_metric=['auc', 'error', 'logloss'], eval_set=eval_set)"
      ],
      "execution_count": 149,
      "outputs": [
        {
          "output_type": "stream",
          "text": [
            "[0]\tvalidation_0-auc:0.740863\tvalidation_0-error:0.280031\tvalidation_0-logloss:0.685303\tvalidation_1-auc:0.733246\tvalidation_1-error:0.288911\tvalidation_1-logloss:0.685641\n",
            "[1]\tvalidation_0-auc:0.742181\tvalidation_0-error:0.280493\tvalidation_0-logloss:0.677981\tvalidation_1-auc:0.735048\tvalidation_1-error:0.292754\tvalidation_1-logloss:0.678643\n",
            "[2]\tvalidation_0-auc:0.741649\tvalidation_0-error:0.281505\tvalidation_0-logloss:0.671381\tvalidation_1-auc:0.73455\tvalidation_1-error:0.290192\tvalidation_1-logloss:0.672325\n",
            "[3]\tvalidation_0-auc:0.74253\tvalidation_0-error:0.280233\tvalidation_0-logloss:0.664826\tvalidation_1-auc:0.735014\tvalidation_1-error:0.289653\tvalidation_1-logloss:0.666112\n",
            "[4]\tvalidation_0-auc:0.741943\tvalidation_0-error:0.281013\tvalidation_0-logloss:0.658948\tvalidation_1-auc:0.734167\tvalidation_1-error:0.290394\tvalidation_1-logloss:0.66048\n",
            "[5]\tvalidation_0-auc:0.741111\tvalidation_0-error:0.282025\tvalidation_0-logloss:0.653367\tvalidation_1-auc:0.733348\tvalidation_1-error:0.291203\tvalidation_1-logloss:0.655139\n",
            "[6]\tvalidation_0-auc:0.740497\tvalidation_0-error:0.280956\tvalidation_0-logloss:0.648109\tvalidation_1-auc:0.732754\tvalidation_1-error:0.290664\tvalidation_1-logloss:0.650143\n",
            "[7]\tvalidation_0-auc:0.741343\tvalidation_0-error:0.281447\tvalidation_0-logloss:0.642803\tvalidation_1-auc:0.733574\tvalidation_1-error:0.29026\tvalidation_1-logloss:0.645108\n",
            "[8]\tvalidation_0-auc:0.741293\tvalidation_0-error:0.281851\tvalidation_0-logloss:0.638915\tvalidation_1-auc:0.733279\tvalidation_1-error:0.292012\tvalidation_1-logloss:0.64143\n",
            "[9]\tvalidation_0-auc:0.741964\tvalidation_0-error:0.281649\tvalidation_0-logloss:0.634102\tvalidation_1-auc:0.733717\tvalidation_1-error:0.290529\tvalidation_1-logloss:0.636893\n",
            "[10]\tvalidation_0-auc:0.741627\tvalidation_0-error:0.281765\tvalidation_0-logloss:0.629833\tvalidation_1-auc:0.733368\tvalidation_1-error:0.290934\tvalidation_1-logloss:0.632856\n",
            "[11]\tvalidation_0-auc:0.742194\tvalidation_0-error:0.281216\tvalidation_0-logloss:0.625524\tvalidation_1-auc:0.733903\tvalidation_1-error:0.290125\tvalidation_1-logloss:0.628778\n",
            "[12]\tvalidation_0-auc:0.742652\tvalidation_0-error:0.281042\tvalidation_0-logloss:0.621411\tvalidation_1-auc:0.73441\tvalidation_1-error:0.290192\tvalidation_1-logloss:0.624882\n",
            "[13]\tvalidation_0-auc:0.74239\tvalidation_0-error:0.28084\tvalidation_0-logloss:0.617812\tvalidation_1-auc:0.734054\tvalidation_1-error:0.290664\tvalidation_1-logloss:0.621484\n",
            "[14]\tvalidation_0-auc:0.742119\tvalidation_0-error:0.281447\tvalidation_0-logloss:0.614363\tvalidation_1-auc:0.733826\tvalidation_1-error:0.290597\tvalidation_1-logloss:0.618218\n",
            "[15]\tvalidation_0-auc:0.74258\tvalidation_0-error:0.281273\tvalidation_0-logloss:0.610848\tvalidation_1-auc:0.73405\tvalidation_1-error:0.290664\tvalidation_1-logloss:0.614947\n",
            "[16]\tvalidation_0-auc:0.742331\tvalidation_0-error:0.281562\tvalidation_0-logloss:0.607765\tvalidation_1-auc:0.733784\tvalidation_1-error:0.290664\tvalidation_1-logloss:0.612046\n",
            "[17]\tvalidation_0-auc:0.742103\tvalidation_0-error:0.281245\tvalidation_0-logloss:0.60484\tvalidation_1-auc:0.733568\tvalidation_1-error:0.290597\tvalidation_1-logloss:0.609293\n",
            "[18]\tvalidation_0-auc:0.742412\tvalidation_0-error:0.281302\tvalidation_0-logloss:0.60179\tvalidation_1-auc:0.733855\tvalidation_1-error:0.28999\tvalidation_1-logloss:0.606434\n",
            "[19]\tvalidation_0-auc:0.742182\tvalidation_0-error:0.281447\tvalidation_0-logloss:0.599144\tvalidation_1-auc:0.733611\tvalidation_1-error:0.290125\tvalidation_1-logloss:0.60395\n",
            "[20]\tvalidation_0-auc:0.742473\tvalidation_0-error:0.281273\tvalidation_0-logloss:0.596341\tvalidation_1-auc:0.733904\tvalidation_1-error:0.290192\tvalidation_1-logloss:0.601321\n",
            "[21]\tvalidation_0-auc:0.742572\tvalidation_0-error:0.281071\tvalidation_0-logloss:0.594379\tvalidation_1-auc:0.733817\tvalidation_1-error:0.28999\tvalidation_1-logloss:0.599536\n",
            "[22]\tvalidation_0-auc:0.74238\tvalidation_0-error:0.281331\tvalidation_0-logloss:0.592107\tvalidation_1-auc:0.733541\tvalidation_1-error:0.290664\tvalidation_1-logloss:0.597429\n",
            "[23]\tvalidation_0-auc:0.742276\tvalidation_0-error:0.281071\tvalidation_0-logloss:0.589929\tvalidation_1-auc:0.733415\tvalidation_1-error:0.29026\tvalidation_1-logloss:0.5954\n",
            "[24]\tvalidation_0-auc:0.742112\tvalidation_0-error:0.281302\tvalidation_0-logloss:0.587854\tvalidation_1-auc:0.733185\tvalidation_1-error:0.290462\tvalidation_1-logloss:0.593486\n",
            "[25]\tvalidation_0-auc:0.742369\tvalidation_0-error:0.2811\tvalidation_0-logloss:0.585635\tvalidation_1-auc:0.733485\tvalidation_1-error:0.290192\tvalidation_1-logloss:0.591415\n",
            "[26]\tvalidation_0-auc:0.742227\tvalidation_0-error:0.281273\tvalidation_0-logloss:0.583757\tvalidation_1-auc:0.73327\tvalidation_1-error:0.290934\tvalidation_1-logloss:0.589704\n",
            "[27]\tvalidation_0-auc:0.742161\tvalidation_0-error:0.281216\tvalidation_0-logloss:0.581977\tvalidation_1-auc:0.733156\tvalidation_1-error:0.290529\tvalidation_1-logloss:0.588076\n",
            "[28]\tvalidation_0-auc:0.74243\tvalidation_0-error:0.281071\tvalidation_0-logloss:0.580047\tvalidation_1-auc:0.733459\tvalidation_1-error:0.290529\tvalidation_1-logloss:0.586292\n",
            "[29]\tvalidation_0-auc:0.7427\tvalidation_0-error:0.281245\tvalidation_0-logloss:0.578156\tvalidation_1-auc:0.733674\tvalidation_1-error:0.290462\tvalidation_1-logloss:0.584558\n",
            "[30]\tvalidation_0-auc:0.742576\tvalidation_0-error:0.281245\tvalidation_0-logloss:0.576629\tvalidation_1-auc:0.733455\tvalidation_1-error:0.290799\tvalidation_1-logloss:0.583199\n",
            "[31]\tvalidation_0-auc:0.742474\tvalidation_0-error:0.281129\tvalidation_0-logloss:0.57517\tvalidation_1-auc:0.733339\tvalidation_1-error:0.290799\tvalidation_1-logloss:0.581869\n",
            "[32]\tvalidation_0-auc:0.742693\tvalidation_0-error:0.281042\tvalidation_0-logloss:0.573561\tvalidation_1-auc:0.733558\tvalidation_1-error:0.290731\tvalidation_1-logloss:0.580396\n",
            "[33]\tvalidation_0-auc:0.742909\tvalidation_0-error:0.280638\tvalidation_0-logloss:0.572039\tvalidation_1-auc:0.73376\tvalidation_1-error:0.290597\tvalidation_1-logloss:0.579025\n",
            "[34]\tvalidation_0-auc:0.742818\tvalidation_0-error:0.280753\tvalidation_0-logloss:0.570785\tvalidation_1-auc:0.733642\tvalidation_1-error:0.290529\tvalidation_1-logloss:0.577895\n",
            "[35]\tvalidation_0-auc:0.743016\tvalidation_0-error:0.280782\tvalidation_0-logloss:0.56939\tvalidation_1-auc:0.73381\tvalidation_1-error:0.29026\tvalidation_1-logloss:0.576644\n",
            "[36]\tvalidation_0-auc:0.743113\tvalidation_0-error:0.280782\tvalidation_0-logloss:0.56848\tvalidation_1-auc:0.733807\tvalidation_1-error:0.290664\tvalidation_1-logloss:0.575835\n",
            "[37]\tvalidation_0-auc:0.743342\tvalidation_0-error:0.280262\tvalidation_0-logloss:0.567179\tvalidation_1-auc:0.734048\tvalidation_1-error:0.289518\tvalidation_1-logloss:0.574647\n",
            "[38]\tvalidation_0-auc:0.743506\tvalidation_0-error:0.280176\tvalidation_0-logloss:0.565959\tvalidation_1-auc:0.734217\tvalidation_1-error:0.288979\tvalidation_1-logloss:0.573543\n",
            "[39]\tvalidation_0-auc:0.743432\tvalidation_0-error:0.280291\tvalidation_0-logloss:0.564965\tvalidation_1-auc:0.734095\tvalidation_1-error:0.289114\tvalidation_1-logloss:0.572656\n",
            "[40]\tvalidation_0-auc:0.743583\tvalidation_0-error:0.280233\tvalidation_0-logloss:0.563833\tvalidation_1-auc:0.734248\tvalidation_1-error:0.28999\tvalidation_1-logloss:0.571641\n",
            "[41]\tvalidation_0-auc:0.74354\tvalidation_0-error:0.280262\tvalidation_0-logloss:0.562942\tvalidation_1-auc:0.73412\tvalidation_1-error:0.28972\tvalidation_1-logloss:0.570886\n",
            "[42]\tvalidation_0-auc:0.743752\tvalidation_0-error:0.280176\tvalidation_0-logloss:0.561883\tvalidation_1-auc:0.734343\tvalidation_1-error:0.289114\tvalidation_1-logloss:0.56993\n",
            "[43]\tvalidation_0-auc:0.743875\tvalidation_0-error:0.280147\tvalidation_0-logloss:0.560892\tvalidation_1-auc:0.734456\tvalidation_1-error:0.289383\tvalidation_1-logloss:0.569062\n",
            "[44]\tvalidation_0-auc:0.743983\tvalidation_0-error:0.280262\tvalidation_0-logloss:0.559967\tvalidation_1-auc:0.734548\tvalidation_1-error:0.289383\tvalidation_1-logloss:0.568256\n",
            "[45]\tvalidation_0-auc:0.744101\tvalidation_0-error:0.2798\tvalidation_0-logloss:0.559055\tvalidation_1-auc:0.734659\tvalidation_1-error:0.289114\tvalidation_1-logloss:0.567455\n",
            "[46]\tvalidation_0-auc:0.744098\tvalidation_0-error:0.279713\tvalidation_0-logloss:0.558344\tvalidation_1-auc:0.73461\tvalidation_1-error:0.289114\tvalidation_1-logloss:0.566851\n",
            "[47]\tvalidation_0-auc:0.744079\tvalidation_0-error:0.279742\tvalidation_0-logloss:0.557675\tvalidation_1-auc:0.734601\tvalidation_1-error:0.289114\tvalidation_1-logloss:0.566254\n",
            "[48]\tvalidation_0-auc:0.744213\tvalidation_0-error:0.279656\tvalidation_0-logloss:0.556871\tvalidation_1-auc:0.734739\tvalidation_1-error:0.288372\tvalidation_1-logloss:0.565558\n",
            "[49]\tvalidation_0-auc:0.744205\tvalidation_0-error:0.27954\tvalidation_0-logloss:0.556241\tvalidation_1-auc:0.734686\tvalidation_1-error:0.289046\tvalidation_1-logloss:0.565042\n",
            "[50]\tvalidation_0-auc:0.744345\tvalidation_0-error:0.279511\tvalidation_0-logloss:0.5555\tvalidation_1-auc:0.734788\tvalidation_1-error:0.289114\tvalidation_1-logloss:0.564415\n",
            "[51]\tvalidation_0-auc:0.744309\tvalidation_0-error:0.27954\tvalidation_0-logloss:0.554934\tvalidation_1-auc:0.73472\tvalidation_1-error:0.289181\tvalidation_1-logloss:0.563945\n",
            "[52]\tvalidation_0-auc:0.744445\tvalidation_0-error:0.279309\tvalidation_0-logloss:0.554264\tvalidation_1-auc:0.734803\tvalidation_1-error:0.289114\tvalidation_1-logloss:0.563397\n",
            "[53]\tvalidation_0-auc:0.744571\tvalidation_0-error:0.279338\tvalidation_0-logloss:0.553614\tvalidation_1-auc:0.734874\tvalidation_1-error:0.289316\tvalidation_1-logloss:0.562857\n",
            "[54]\tvalidation_0-auc:0.744708\tvalidation_0-error:0.279338\tvalidation_0-logloss:0.553209\tvalidation_1-auc:0.734936\tvalidation_1-error:0.288979\tvalidation_1-logloss:0.562521\n",
            "[55]\tvalidation_0-auc:0.744846\tvalidation_0-error:0.279078\tvalidation_0-logloss:0.552623\tvalidation_1-auc:0.735054\tvalidation_1-error:0.289181\tvalidation_1-logloss:0.562031\n",
            "[56]\tvalidation_0-auc:0.744968\tvalidation_0-error:0.278876\tvalidation_0-logloss:0.552034\tvalidation_1-auc:0.73512\tvalidation_1-error:0.289316\tvalidation_1-logloss:0.561552\n",
            "[57]\tvalidation_0-auc:0.745109\tvalidation_0-error:0.278731\tvalidation_0-logloss:0.55146\tvalidation_1-auc:0.735245\tvalidation_1-error:0.289114\tvalidation_1-logloss:0.561081\n",
            "[58]\tvalidation_0-auc:0.745261\tvalidation_0-error:0.279251\tvalidation_0-logloss:0.551095\tvalidation_1-auc:0.735299\tvalidation_1-error:0.288911\tvalidation_1-logloss:0.560814\n",
            "[59]\tvalidation_0-auc:0.74529\tvalidation_0-error:0.279627\tvalidation_0-logloss:0.550714\tvalidation_1-auc:0.735257\tvalidation_1-error:0.289181\tvalidation_1-logloss:0.560536\n",
            "[60]\tvalidation_0-auc:0.745403\tvalidation_0-error:0.279251\tvalidation_0-logloss:0.550211\tvalidation_1-auc:0.735346\tvalidation_1-error:0.288979\tvalidation_1-logloss:0.560123\n",
            "[61]\tvalidation_0-auc:0.745499\tvalidation_0-error:0.279338\tvalidation_0-logloss:0.549723\tvalidation_1-auc:0.735468\tvalidation_1-error:0.288911\tvalidation_1-logloss:0.559712\n",
            "[62]\tvalidation_0-auc:0.745621\tvalidation_0-error:0.279425\tvalidation_0-logloss:0.549255\tvalidation_1-auc:0.735605\tvalidation_1-error:0.288979\tvalidation_1-logloss:0.559316\n",
            "[63]\tvalidation_0-auc:0.74574\tvalidation_0-error:0.279453\tvalidation_0-logloss:0.548828\tvalidation_1-auc:0.735754\tvalidation_1-error:0.288507\tvalidation_1-logloss:0.558942\n",
            "[64]\tvalidation_0-auc:0.745793\tvalidation_0-error:0.279251\tvalidation_0-logloss:0.548496\tvalidation_1-auc:0.735749\tvalidation_1-error:0.288911\tvalidation_1-logloss:0.558708\n",
            "[65]\tvalidation_0-auc:0.745916\tvalidation_0-error:0.279453\tvalidation_0-logloss:0.548245\tvalidation_1-auc:0.735831\tvalidation_1-error:0.288979\tvalidation_1-logloss:0.558518\n",
            "[66]\tvalidation_0-auc:0.745948\tvalidation_0-error:0.279309\tvalidation_0-logloss:0.547959\tvalidation_1-auc:0.735796\tvalidation_1-error:0.288777\tvalidation_1-logloss:0.55832\n",
            "[67]\tvalidation_0-auc:0.746049\tvalidation_0-error:0.279396\tvalidation_0-logloss:0.547565\tvalidation_1-auc:0.735908\tvalidation_1-error:0.289383\tvalidation_1-logloss:0.55801\n",
            "[68]\tvalidation_0-auc:0.746142\tvalidation_0-error:0.278904\tvalidation_0-logloss:0.547197\tvalidation_1-auc:0.73596\tvalidation_1-error:0.289181\tvalidation_1-logloss:0.557733\n",
            "[69]\tvalidation_0-auc:0.746175\tvalidation_0-error:0.279251\tvalidation_0-logloss:0.546928\tvalidation_1-auc:0.735949\tvalidation_1-error:0.289114\tvalidation_1-logloss:0.557547\n",
            "[70]\tvalidation_0-auc:0.746217\tvalidation_0-error:0.279222\tvalidation_0-logloss:0.546667\tvalidation_1-auc:0.735936\tvalidation_1-error:0.289114\tvalidation_1-logloss:0.557373\n",
            "[71]\tvalidation_0-auc:0.746298\tvalidation_0-error:0.279251\tvalidation_0-logloss:0.546457\tvalidation_1-auc:0.735964\tvalidation_1-error:0.288642\tvalidation_1-logloss:0.557234\n",
            "[72]\tvalidation_0-auc:0.746413\tvalidation_0-error:0.278991\tvalidation_0-logloss:0.546133\tvalidation_1-auc:0.736076\tvalidation_1-error:0.288372\tvalidation_1-logloss:0.556982\n",
            "[73]\tvalidation_0-auc:0.746491\tvalidation_0-error:0.278818\tvalidation_0-logloss:0.545823\tvalidation_1-auc:0.736125\tvalidation_1-error:0.288507\tvalidation_1-logloss:0.556756\n",
            "[74]\tvalidation_0-auc:0.746526\tvalidation_0-error:0.278818\tvalidation_0-logloss:0.545609\tvalidation_1-auc:0.736114\tvalidation_1-error:0.288507\tvalidation_1-logloss:0.556623\n",
            "[75]\tvalidation_0-auc:0.746631\tvalidation_0-error:0.278702\tvalidation_0-logloss:0.545307\tvalidation_1-auc:0.736194\tvalidation_1-error:0.288574\tvalidation_1-logloss:0.556399\n",
            "[76]\tvalidation_0-auc:0.746739\tvalidation_0-error:0.278644\tvalidation_0-logloss:0.545013\tvalidation_1-auc:0.736249\tvalidation_1-error:0.288237\tvalidation_1-logloss:0.556203\n",
            "[77]\tvalidation_0-auc:0.746771\tvalidation_0-error:0.278413\tvalidation_0-logloss:0.544807\tvalidation_1-auc:0.736222\tvalidation_1-error:0.288574\tvalidation_1-logloss:0.556078\n",
            "[78]\tvalidation_0-auc:0.746862\tvalidation_0-error:0.278269\tvalidation_0-logloss:0.544561\tvalidation_1-auc:0.736327\tvalidation_1-error:0.288777\tvalidation_1-logloss:0.555894\n",
            "[79]\tvalidation_0-auc:0.746968\tvalidation_0-error:0.278153\tvalidation_0-logloss:0.544312\tvalidation_1-auc:0.736407\tvalidation_1-error:0.288642\tvalidation_1-logloss:0.555717\n",
            "[80]\tvalidation_0-auc:0.747007\tvalidation_0-error:0.278356\tvalidation_0-logloss:0.54414\tvalidation_1-auc:0.736407\tvalidation_1-error:0.289248\tvalidation_1-logloss:0.555613\n",
            "[81]\tvalidation_0-auc:0.747097\tvalidation_0-error:0.278153\tvalidation_0-logloss:0.5439\tvalidation_1-auc:0.736472\tvalidation_1-error:0.288844\tvalidation_1-logloss:0.555463\n",
            "[82]\tvalidation_0-auc:0.747186\tvalidation_0-error:0.278124\tvalidation_0-logloss:0.543754\tvalidation_1-auc:0.736506\tvalidation_1-error:0.288507\tvalidation_1-logloss:0.55537\n",
            "[83]\tvalidation_0-auc:0.747274\tvalidation_0-error:0.278124\tvalidation_0-logloss:0.543537\tvalidation_1-auc:0.736566\tvalidation_1-error:0.288372\tvalidation_1-logloss:0.555212\n",
            "[84]\tvalidation_0-auc:0.747372\tvalidation_0-error:0.278124\tvalidation_0-logloss:0.543311\tvalidation_1-auc:0.73663\tvalidation_1-error:0.288709\tvalidation_1-logloss:0.555066\n",
            "[85]\tvalidation_0-auc:0.747456\tvalidation_0-error:0.278124\tvalidation_0-logloss:0.543103\tvalidation_1-auc:0.736711\tvalidation_1-error:0.288777\tvalidation_1-logloss:0.554911\n",
            "[86]\tvalidation_0-auc:0.74754\tvalidation_0-error:0.277893\tvalidation_0-logloss:0.542894\tvalidation_1-auc:0.736773\tvalidation_1-error:0.28844\tvalidation_1-logloss:0.554778\n",
            "[87]\tvalidation_0-auc:0.747583\tvalidation_0-error:0.277749\tvalidation_0-logloss:0.542762\tvalidation_1-auc:0.736762\tvalidation_1-error:0.28844\tvalidation_1-logloss:0.55472\n",
            "[88]\tvalidation_0-auc:0.74766\tvalidation_0-error:0.277576\tvalidation_0-logloss:0.542582\tvalidation_1-auc:0.736809\tvalidation_1-error:0.288035\tvalidation_1-logloss:0.554614\n",
            "[89]\tvalidation_0-auc:0.747765\tvalidation_0-error:0.277778\tvalidation_0-logloss:0.542465\tvalidation_1-auc:0.736841\tvalidation_1-error:0.288035\tvalidation_1-logloss:0.554551\n",
            "[90]\tvalidation_0-auc:0.747873\tvalidation_0-error:0.277662\tvalidation_0-logloss:0.542312\tvalidation_1-auc:0.736877\tvalidation_1-error:0.288237\tvalidation_1-logloss:0.554477\n",
            "[91]\tvalidation_0-auc:0.74794\tvalidation_0-error:0.277749\tvalidation_0-logloss:0.542173\tvalidation_1-auc:0.736892\tvalidation_1-error:0.288102\tvalidation_1-logloss:0.554404\n",
            "[92]\tvalidation_0-auc:0.748043\tvalidation_0-error:0.27772\tvalidation_0-logloss:0.541986\tvalidation_1-auc:0.736947\tvalidation_1-error:0.28817\tvalidation_1-logloss:0.55429\n",
            "[93]\tvalidation_0-auc:0.748105\tvalidation_0-error:0.277778\tvalidation_0-logloss:0.541831\tvalidation_1-auc:0.736983\tvalidation_1-error:0.287968\tvalidation_1-logloss:0.554201\n",
            "[94]\tvalidation_0-auc:0.748176\tvalidation_0-error:0.27772\tvalidation_0-logloss:0.54167\tvalidation_1-auc:0.73704\tvalidation_1-error:0.288035\tvalidation_1-logloss:0.554101\n",
            "[95]\tvalidation_0-auc:0.748211\tvalidation_0-error:0.277691\tvalidation_0-logloss:0.541561\tvalidation_1-auc:0.737055\tvalidation_1-error:0.288305\tvalidation_1-logloss:0.554049\n",
            "[96]\tvalidation_0-auc:0.748289\tvalidation_0-error:0.277402\tvalidation_0-logloss:0.54141\tvalidation_1-auc:0.737119\tvalidation_1-error:0.288237\tvalidation_1-logloss:0.553944\n",
            "[97]\tvalidation_0-auc:0.748347\tvalidation_0-error:0.277402\tvalidation_0-logloss:0.54127\tvalidation_1-auc:0.737173\tvalidation_1-error:0.288102\tvalidation_1-logloss:0.553862\n",
            "[98]\tvalidation_0-auc:0.748411\tvalidation_0-error:0.277431\tvalidation_0-logloss:0.541165\tvalidation_1-auc:0.737191\tvalidation_1-error:0.288035\tvalidation_1-logloss:0.553812\n",
            "[99]\tvalidation_0-auc:0.74847\tvalidation_0-error:0.277431\tvalidation_0-logloss:0.541075\tvalidation_1-auc:0.737206\tvalidation_1-error:0.28844\tvalidation_1-logloss:0.553759\n"
          ],
          "name": "stdout"
        },
        {
          "output_type": "execute_result",
          "data": {
            "text/plain": [
              "XGBClassifier(base_score=0.5, booster='gbtree', colsample_bylevel=1,\n",
              "              colsample_bynode=1, colsample_bytree=0.7, gamma=0.1,\n",
              "              learning_rate=0.03, max_delta_step=0, max_depth=4,\n",
              "              min_child_weight=1, missing=None, n_estimators=100, n_jobs=1,\n",
              "              nthread=None, objective='binary:logistic', random_state=0,\n",
              "              reg_alpha=0, reg_lambda=1, scale_pos_weight=1, seed=None,\n",
              "              silent=None, subsample=0.8, verbosity=1)"
            ]
          },
          "metadata": {
            "tags": []
          },
          "execution_count": 149
        }
      ]
    },
    {
      "cell_type": "code",
      "metadata": {
        "id": "iuBby559recO",
        "colab_type": "code",
        "colab": {}
      },
      "source": [
        "score = model.score(X_test, y_test)\n",
        "score_tree = tree.score(X_test, y_test)\n",
        "score_reg = reg.score(X_test, y_test)\n",
        "score_mlp = mlp.score(X_test, y_test)"
      ],
      "execution_count": 0,
      "outputs": []
    },
    {
      "cell_type": "code",
      "metadata": {
        "id": "C-E1i_9ZmuoB",
        "colab_type": "code",
        "colab": {}
      },
      "source": [
        "def plot_results(model, variable):\n",
        "  results = model.evals_result()\n",
        "  epochs = range(len(results['validation_0'][variable]))\n",
        "  fig, ax = plt.subplots(figsize=(10, 5))\n",
        "  ax.plot(epochs, results['validation_0'][variable], label='Train')\n",
        "  ax.plot(epochs, results['validation_1'][variable], label='Test')\n",
        "  ax.legend()"
      ],
      "execution_count": 0,
      "outputs": []
    },
    {
      "cell_type": "code",
      "metadata": {
        "id": "USMMFzMDRODp",
        "colab_type": "code",
        "colab": {
          "base_uri": "https://localhost:8080/",
          "height": 101
        },
        "outputId": "c5f7772f-e87e-4aa1-c707-9569221ba4f8"
      },
      "source": [
        "treatment_0 = data[data['treatment_flg'] == 0]\n",
        "treatment_0.drop('treatment_flg', axis=1, inplace=True)\n",
        "y = treatment_0['target']\n",
        "X = treatment_0.drop('target', axis=1).values\n",
        "X_train, X_test, y_train, y_test = train_test_split(X, y, test_size=0.3, random_state=42)\n",
        "eval_set = [(X_train, y_train), (X_test, y_test)]"
      ],
      "execution_count": 152,
      "outputs": [
        {
          "output_type": "stream",
          "text": [
            "/usr/local/lib/python3.6/dist-packages/pandas/core/frame.py:4117: SettingWithCopyWarning: \n",
            "A value is trying to be set on a copy of a slice from a DataFrame\n",
            "\n",
            "See the caveats in the documentation: http://pandas.pydata.org/pandas-docs/stable/user_guide/indexing.html#returning-a-view-versus-a-copy\n",
            "  errors=errors,\n"
          ],
          "name": "stderr"
        }
      ]
    },
    {
      "cell_type": "code",
      "metadata": {
        "id": "J1JQe_BNtWGn",
        "colab_type": "code",
        "colab": {
          "base_uri": "https://localhost:8080/",
          "height": 339
        },
        "outputId": "228d5a7b-16df-44dd-cde3-d6e56c79c6db"
      },
      "source": [
        "tree1 = DecisionTreeClassifier()\n",
        "reg1 = LogisticRegression()\n",
        "mlp1 = MLPClassifier()\n",
        "\n",
        "tree1.fit(X_train, y_train)\n",
        "reg1.fit(X_train, y_train)\n",
        "mlp1.fit(X_train, y_train)"
      ],
      "execution_count": 153,
      "outputs": [
        {
          "output_type": "stream",
          "text": [
            "/usr/local/lib/python3.6/dist-packages/sklearn/linear_model/_logistic.py:940: ConvergenceWarning: lbfgs failed to converge (status=1):\n",
            "STOP: TOTAL NO. of ITERATIONS REACHED LIMIT.\n",
            "\n",
            "Increase the number of iterations (max_iter) or scale the data as shown in:\n",
            "    https://scikit-learn.org/stable/modules/preprocessing.html\n",
            "Please also refer to the documentation for alternative solver options:\n",
            "    https://scikit-learn.org/stable/modules/linear_model.html#logistic-regression\n",
            "  extra_warning_msg=_LOGISTIC_SOLVER_CONVERGENCE_MSG)\n",
            "/usr/local/lib/python3.6/dist-packages/sklearn/neural_network/_multilayer_perceptron.py:571: ConvergenceWarning: Stochastic Optimizer: Maximum iterations (200) reached and the optimization hasn't converged yet.\n",
            "  % self.max_iter, ConvergenceWarning)\n"
          ],
          "name": "stderr"
        },
        {
          "output_type": "execute_result",
          "data": {
            "text/plain": [
              "MLPClassifier(activation='relu', alpha=0.0001, batch_size='auto', beta_1=0.9,\n",
              "              beta_2=0.999, early_stopping=False, epsilon=1e-08,\n",
              "              hidden_layer_sizes=(100,), learning_rate='constant',\n",
              "              learning_rate_init=0.001, max_fun=15000, max_iter=200,\n",
              "              momentum=0.9, n_iter_no_change=10, nesterovs_momentum=True,\n",
              "              power_t=0.5, random_state=None, shuffle=True, solver='adam',\n",
              "              tol=0.0001, validation_fraction=0.1, verbose=False,\n",
              "              warm_start=False)"
            ]
          },
          "metadata": {
            "tags": []
          },
          "execution_count": 153
        }
      ]
    },
    {
      "cell_type": "code",
      "metadata": {
        "id": "v3Z1etNXS_p_",
        "colab_type": "code",
        "outputId": "7ae626ee-695d-4942-bef7-77ab807e3656",
        "colab": {
          "base_uri": "https://localhost:8080/",
          "height": 1000
        }
      },
      "source": [
        "model1 = xgb.XGBClassifier(**param_grid)\n",
        "model1.fit(X_train, y_train, eval_metric=['auc', 'error', 'logloss'], eval_set=eval_set)"
      ],
      "execution_count": 154,
      "outputs": [
        {
          "output_type": "stream",
          "text": [
            "[0]\tvalidation_0-auc:0.747259\tvalidation_0-error:0.294732\tvalidation_0-logloss:0.686114\tvalidation_1-auc:0.741783\tvalidation_1-error:0.303061\tvalidation_1-logloss:0.686302\n",
            "[1]\tvalidation_0-auc:0.738659\tvalidation_0-error:0.300288\tvalidation_0-logloss:0.682106\tvalidation_1-auc:0.735976\tvalidation_1-error:0.30469\tvalidation_1-logloss:0.682214\n",
            "[2]\tvalidation_0-auc:0.746595\tvalidation_0-error:0.297874\tvalidation_0-logloss:0.675763\tvalidation_1-auc:0.742811\tvalidation_1-error:0.302654\tvalidation_1-logloss:0.675997\n",
            "[3]\tvalidation_0-auc:0.749352\tvalidation_0-error:0.295925\tvalidation_0-logloss:0.669752\tvalidation_1-auc:0.744772\tvalidation_1-error:0.301772\tvalidation_1-logloss:0.670154\n",
            "[4]\tvalidation_0-auc:0.750403\tvalidation_0-error:0.295866\tvalidation_0-logloss:0.664082\tvalidation_1-auc:0.745558\tvalidation_1-error:0.300278\tvalidation_1-logloss:0.664605\n",
            "[5]\tvalidation_0-auc:0.750793\tvalidation_0-error:0.295401\tvalidation_0-logloss:0.65871\tvalidation_1-auc:0.745885\tvalidation_1-error:0.299667\tvalidation_1-logloss:0.659364\n",
            "[6]\tvalidation_0-auc:0.751128\tvalidation_0-error:0.295226\tvalidation_0-logloss:0.653595\tvalidation_1-auc:0.745985\tvalidation_1-error:0.297631\tvalidation_1-logloss:0.654404\n",
            "[7]\tvalidation_0-auc:0.751234\tvalidation_0-error:0.295343\tvalidation_0-logloss:0.648783\tvalidation_1-auc:0.745919\tvalidation_1-error:0.298174\tvalidation_1-logloss:0.649729\n",
            "[8]\tvalidation_0-auc:0.751491\tvalidation_0-error:0.294325\tvalidation_0-logloss:0.644258\tvalidation_1-auc:0.746059\tvalidation_1-error:0.296952\tvalidation_1-logloss:0.645321\n",
            "[9]\tvalidation_0-auc:0.751068\tvalidation_0-error:0.295226\tvalidation_0-logloss:0.641651\tvalidation_1-auc:0.746145\tvalidation_1-error:0.299192\tvalidation_1-logloss:0.642668\n",
            "[10]\tvalidation_0-auc:0.751325\tvalidation_0-error:0.294819\tvalidation_0-logloss:0.63747\tvalidation_1-auc:0.746259\tvalidation_1-error:0.298174\tvalidation_1-logloss:0.638615\n",
            "[11]\tvalidation_0-auc:0.751283\tvalidation_0-error:0.294354\tvalidation_0-logloss:0.633819\tvalidation_1-auc:0.746096\tvalidation_1-error:0.297428\tvalidation_1-logloss:0.635076\n",
            "[12]\tvalidation_0-auc:0.751464\tvalidation_0-error:0.294325\tvalidation_0-logloss:0.630072\tvalidation_1-auc:0.74628\tvalidation_1-error:0.296681\tvalidation_1-logloss:0.631419\n",
            "[13]\tvalidation_0-auc:0.751725\tvalidation_0-error:0.294703\tvalidation_0-logloss:0.626523\tvalidation_1-auc:0.74633\tvalidation_1-error:0.296545\tvalidation_1-logloss:0.628014\n",
            "[14]\tvalidation_0-auc:0.751768\tvalidation_0-error:0.294819\tvalidation_0-logloss:0.62316\tvalidation_1-auc:0.746263\tvalidation_1-error:0.296409\tvalidation_1-logloss:0.624779\n",
            "[15]\tvalidation_0-auc:0.751902\tvalidation_0-error:0.294412\tvalidation_0-logloss:0.619961\tvalidation_1-auc:0.746416\tvalidation_1-error:0.296545\tvalidation_1-logloss:0.621684\n",
            "[16]\tvalidation_0-auc:0.751837\tvalidation_0-error:0.294936\tvalidation_0-logloss:0.617177\tvalidation_1-auc:0.746336\tvalidation_1-error:0.296885\tvalidation_1-logloss:0.618988\n",
            "[17]\tvalidation_0-auc:0.751888\tvalidation_0-error:0.294587\tvalidation_0-logloss:0.614291\tvalidation_1-auc:0.746391\tvalidation_1-error:0.296817\tvalidation_1-logloss:0.6162\n",
            "[18]\tvalidation_0-auc:0.751746\tvalidation_0-error:0.294237\tvalidation_0-logloss:0.611796\tvalidation_1-auc:0.746091\tvalidation_1-error:0.296613\tvalidation_1-logloss:0.613827\n",
            "[19]\tvalidation_0-auc:0.751605\tvalidation_0-error:0.294645\tvalidation_0-logloss:0.609382\tvalidation_1-auc:0.745888\tvalidation_1-error:0.297428\tvalidation_1-logloss:0.611505\n",
            "[20]\tvalidation_0-auc:0.751451\tvalidation_0-error:0.294703\tvalidation_0-logloss:0.60711\tvalidation_1-auc:0.745688\tvalidation_1-error:0.297428\tvalidation_1-logloss:0.609316\n",
            "[21]\tvalidation_0-auc:0.751405\tvalidation_0-error:0.295197\tvalidation_0-logloss:0.605739\tvalidation_1-auc:0.745789\tvalidation_1-error:0.29702\tvalidation_1-logloss:0.607925\n",
            "[22]\tvalidation_0-auc:0.75153\tvalidation_0-error:0.295663\tvalidation_0-logloss:0.603445\tvalidation_1-auc:0.74585\tvalidation_1-error:0.29702\tvalidation_1-logloss:0.605735\n",
            "[23]\tvalidation_0-auc:0.751368\tvalidation_0-error:0.295488\tvalidation_0-logloss:0.601463\tvalidation_1-auc:0.745643\tvalidation_1-error:0.296749\tvalidation_1-logloss:0.603859\n",
            "[24]\tvalidation_0-auc:0.751453\tvalidation_0-error:0.295634\tvalidation_0-logloss:0.599388\tvalidation_1-auc:0.745689\tvalidation_1-error:0.297088\tvalidation_1-logloss:0.601882\n",
            "[25]\tvalidation_0-auc:0.751592\tvalidation_0-error:0.295459\tvalidation_0-logloss:0.597371\tvalidation_1-auc:0.745804\tvalidation_1-error:0.297428\tvalidation_1-logloss:0.599967\n",
            "[26]\tvalidation_0-auc:0.751708\tvalidation_0-error:0.295285\tvalidation_0-logloss:0.595454\tvalidation_1-auc:0.745858\tvalidation_1-error:0.297224\tvalidation_1-logloss:0.598167\n",
            "[27]\tvalidation_0-auc:0.751814\tvalidation_0-error:0.295052\tvalidation_0-logloss:0.593642\tvalidation_1-auc:0.745913\tvalidation_1-error:0.297156\tvalidation_1-logloss:0.596461\n",
            "[28]\tvalidation_0-auc:0.75189\tvalidation_0-error:0.294761\tvalidation_0-logloss:0.591913\tvalidation_1-auc:0.745973\tvalidation_1-error:0.296342\tvalidation_1-logloss:0.594827\n",
            "[29]\tvalidation_0-auc:0.751923\tvalidation_0-error:0.294877\tvalidation_0-logloss:0.590279\tvalidation_1-auc:0.74603\tvalidation_1-error:0.296138\tvalidation_1-logloss:0.59326\n",
            "[30]\tvalidation_0-auc:0.752002\tvalidation_0-error:0.294208\tvalidation_0-logloss:0.588702\tvalidation_1-auc:0.746071\tvalidation_1-error:0.296274\tvalidation_1-logloss:0.591789\n",
            "[31]\tvalidation_0-auc:0.752077\tvalidation_0-error:0.294441\tvalidation_0-logloss:0.587222\tvalidation_1-auc:0.74613\tvalidation_1-error:0.296138\tvalidation_1-logloss:0.590397\n",
            "[32]\tvalidation_0-auc:0.752128\tvalidation_0-error:0.294761\tvalidation_0-logloss:0.586165\tvalidation_1-auc:0.7461\tvalidation_1-error:0.295866\tvalidation_1-logloss:0.589425\n",
            "[33]\tvalidation_0-auc:0.752099\tvalidation_0-error:0.294208\tvalidation_0-logloss:0.584955\tvalidation_1-auc:0.746003\tvalidation_1-error:0.296613\tvalidation_1-logloss:0.588298\n",
            "[34]\tvalidation_0-auc:0.752011\tvalidation_0-error:0.294499\tvalidation_0-logloss:0.583794\tvalidation_1-auc:0.745904\tvalidation_1-error:0.296681\tvalidation_1-logloss:0.587218\n",
            "[35]\tvalidation_0-auc:0.752093\tvalidation_0-error:0.294296\tvalidation_0-logloss:0.582531\tvalidation_1-auc:0.745971\tvalidation_1-error:0.297088\tvalidation_1-logloss:0.586037\n",
            "[36]\tvalidation_0-auc:0.752068\tvalidation_0-error:0.293772\tvalidation_0-logloss:0.581486\tvalidation_1-auc:0.745942\tvalidation_1-error:0.297292\tvalidation_1-logloss:0.585069\n",
            "[37]\tvalidation_0-auc:0.752136\tvalidation_0-error:0.293714\tvalidation_0-logloss:0.580335\tvalidation_1-auc:0.74595\tvalidation_1-error:0.297428\tvalidation_1-logloss:0.584022\n",
            "[38]\tvalidation_0-auc:0.75208\tvalidation_0-error:0.294063\tvalidation_0-logloss:0.579384\tvalidation_1-auc:0.745851\tvalidation_1-error:0.297835\tvalidation_1-logloss:0.583138\n",
            "[39]\tvalidation_0-auc:0.75214\tvalidation_0-error:0.294441\tvalidation_0-logloss:0.578331\tvalidation_1-auc:0.745838\tvalidation_1-error:0.298242\tvalidation_1-logloss:0.582194\n",
            "[40]\tvalidation_0-auc:0.752152\tvalidation_0-error:0.29415\tvalidation_0-logloss:0.577465\tvalidation_1-auc:0.745828\tvalidation_1-error:0.298717\tvalidation_1-logloss:0.581391\n",
            "[41]\tvalidation_0-auc:0.752121\tvalidation_0-error:0.29415\tvalidation_0-logloss:0.57665\tvalidation_1-auc:0.74574\tvalidation_1-error:0.298785\tvalidation_1-logloss:0.580652\n",
            "[42]\tvalidation_0-auc:0.752191\tvalidation_0-error:0.294121\tvalidation_0-logloss:0.575729\tvalidation_1-auc:0.745777\tvalidation_1-error:0.297903\tvalidation_1-logloss:0.579801\n",
            "[43]\tvalidation_0-auc:0.752271\tvalidation_0-error:0.294412\tvalidation_0-logloss:0.574844\tvalidation_1-auc:0.745758\tvalidation_1-error:0.298717\tvalidation_1-logloss:0.579037\n",
            "[44]\tvalidation_0-auc:0.752332\tvalidation_0-error:0.294325\tvalidation_0-logloss:0.57426\tvalidation_1-auc:0.74575\tvalidation_1-error:0.298446\tvalidation_1-logloss:0.578525\n",
            "[45]\tvalidation_0-auc:0.752403\tvalidation_0-error:0.29415\tvalidation_0-logloss:0.573466\tvalidation_1-auc:0.745756\tvalidation_1-error:0.298038\tvalidation_1-logloss:0.577823\n",
            "[46]\tvalidation_0-auc:0.752415\tvalidation_0-error:0.29415\tvalidation_0-logloss:0.572807\tvalidation_1-auc:0.745658\tvalidation_1-error:0.297903\tvalidation_1-logloss:0.577253\n",
            "[47]\tvalidation_0-auc:0.752486\tvalidation_0-error:0.293888\tvalidation_0-logloss:0.572074\tvalidation_1-auc:0.74568\tvalidation_1-error:0.298174\tvalidation_1-logloss:0.57663\n",
            "[48]\tvalidation_0-auc:0.752546\tvalidation_0-error:0.293917\tvalidation_0-logloss:0.571355\tvalidation_1-auc:0.745761\tvalidation_1-error:0.297903\tvalidation_1-logloss:0.575953\n",
            "[49]\tvalidation_0-auc:0.752631\tvalidation_0-error:0.293888\tvalidation_0-logloss:0.5709\tvalidation_1-auc:0.745746\tvalidation_1-error:0.297903\tvalidation_1-logloss:0.575585\n",
            "[50]\tvalidation_0-auc:0.75271\tvalidation_0-error:0.293976\tvalidation_0-logloss:0.570235\tvalidation_1-auc:0.745796\tvalidation_1-error:0.297699\tvalidation_1-logloss:0.574998\n",
            "[51]\tvalidation_0-auc:0.752797\tvalidation_0-error:0.293976\tvalidation_0-logloss:0.5696\tvalidation_1-auc:0.745821\tvalidation_1-error:0.297631\tvalidation_1-logloss:0.574448\n",
            "[52]\tvalidation_0-auc:0.752874\tvalidation_0-error:0.293888\tvalidation_0-logloss:0.568993\tvalidation_1-auc:0.745824\tvalidation_1-error:0.297699\tvalidation_1-logloss:0.573946\n",
            "[53]\tvalidation_0-auc:0.752932\tvalidation_0-error:0.293888\tvalidation_0-logloss:0.568433\tvalidation_1-auc:0.745849\tvalidation_1-error:0.297903\tvalidation_1-logloss:0.573474\n",
            "[54]\tvalidation_0-auc:0.753009\tvalidation_0-error:0.29383\tvalidation_0-logloss:0.567888\tvalidation_1-auc:0.745884\tvalidation_1-error:0.297767\tvalidation_1-logloss:0.573\n",
            "[55]\tvalidation_0-auc:0.753093\tvalidation_0-error:0.293801\tvalidation_0-logloss:0.567356\tvalidation_1-auc:0.745916\tvalidation_1-error:0.297903\tvalidation_1-logloss:0.572565\n",
            "[56]\tvalidation_0-auc:0.753136\tvalidation_0-error:0.293685\tvalidation_0-logloss:0.566856\tvalidation_1-auc:0.745975\tvalidation_1-error:0.297767\tvalidation_1-logloss:0.572115\n",
            "[57]\tvalidation_0-auc:0.753147\tvalidation_0-error:0.29383\tvalidation_0-logloss:0.566476\tvalidation_1-auc:0.745973\tvalidation_1-error:0.29831\tvalidation_1-logloss:0.571776\n",
            "[58]\tvalidation_0-auc:0.753228\tvalidation_0-error:0.293743\tvalidation_0-logloss:0.566003\tvalidation_1-auc:0.745991\tvalidation_1-error:0.297903\tvalidation_1-logloss:0.57138\n",
            "[59]\tvalidation_0-auc:0.753222\tvalidation_0-error:0.293656\tvalidation_0-logloss:0.56564\tvalidation_1-auc:0.745958\tvalidation_1-error:0.297767\tvalidation_1-logloss:0.57107\n",
            "[60]\tvalidation_0-auc:0.753285\tvalidation_0-error:0.293772\tvalidation_0-logloss:0.565196\tvalidation_1-auc:0.746013\tvalidation_1-error:0.297835\tvalidation_1-logloss:0.570695\n",
            "[61]\tvalidation_0-auc:0.753354\tvalidation_0-error:0.293743\tvalidation_0-logloss:0.564795\tvalidation_1-auc:0.746037\tvalidation_1-error:0.297631\tvalidation_1-logloss:0.570359\n",
            "[62]\tvalidation_0-auc:0.753408\tvalidation_0-error:0.29383\tvalidation_0-logloss:0.56441\tvalidation_1-auc:0.746055\tvalidation_1-error:0.297495\tvalidation_1-logloss:0.570036\n",
            "[63]\tvalidation_0-auc:0.753464\tvalidation_0-error:0.293481\tvalidation_0-logloss:0.564036\tvalidation_1-auc:0.746058\tvalidation_1-error:0.297767\tvalidation_1-logloss:0.569738\n",
            "[64]\tvalidation_0-auc:0.75351\tvalidation_0-error:0.293627\tvalidation_0-logloss:0.563682\tvalidation_1-auc:0.746094\tvalidation_1-error:0.297767\tvalidation_1-logloss:0.56945\n",
            "[65]\tvalidation_0-auc:0.753556\tvalidation_0-error:0.293656\tvalidation_0-logloss:0.563405\tvalidation_1-auc:0.746056\tvalidation_1-error:0.297495\tvalidation_1-logloss:0.569242\n",
            "[66]\tvalidation_0-auc:0.753648\tvalidation_0-error:0.29351\tvalidation_0-logloss:0.56306\tvalidation_1-auc:0.746101\tvalidation_1-error:0.297699\tvalidation_1-logloss:0.568969\n",
            "[67]\tvalidation_0-auc:0.753727\tvalidation_0-error:0.293452\tvalidation_0-logloss:0.562751\tvalidation_1-auc:0.746137\tvalidation_1-error:0.297428\tvalidation_1-logloss:0.56874\n",
            "[68]\tvalidation_0-auc:0.753787\tvalidation_0-error:0.293423\tvalidation_0-logloss:0.562435\tvalidation_1-auc:0.746124\tvalidation_1-error:0.297699\tvalidation_1-logloss:0.568506\n",
            "[69]\tvalidation_0-auc:0.753811\tvalidation_0-error:0.293307\tvalidation_0-logloss:0.562195\tvalidation_1-auc:0.746067\tvalidation_1-error:0.297699\tvalidation_1-logloss:0.568342\n",
            "[70]\tvalidation_0-auc:0.753852\tvalidation_0-error:0.293336\tvalidation_0-logloss:0.561921\tvalidation_1-auc:0.746111\tvalidation_1-error:0.297631\tvalidation_1-logloss:0.568113\n",
            "[71]\tvalidation_0-auc:0.753898\tvalidation_0-error:0.293161\tvalidation_0-logloss:0.561646\tvalidation_1-auc:0.746111\tvalidation_1-error:0.297767\tvalidation_1-logloss:0.56791\n",
            "[72]\tvalidation_0-auc:0.753959\tvalidation_0-error:0.293219\tvalidation_0-logloss:0.561386\tvalidation_1-auc:0.746132\tvalidation_1-error:0.297835\tvalidation_1-logloss:0.567727\n",
            "[73]\tvalidation_0-auc:0.753999\tvalidation_0-error:0.293074\tvalidation_0-logloss:0.56114\tvalidation_1-auc:0.746149\tvalidation_1-error:0.297699\tvalidation_1-logloss:0.567534\n",
            "[74]\tvalidation_0-auc:0.754051\tvalidation_0-error:0.293248\tvalidation_0-logloss:0.560906\tvalidation_1-auc:0.746143\tvalidation_1-error:0.297835\tvalidation_1-logloss:0.567383\n",
            "[75]\tvalidation_0-auc:0.754092\tvalidation_0-error:0.29319\tvalidation_0-logloss:0.560664\tvalidation_1-auc:0.746153\tvalidation_1-error:0.297767\tvalidation_1-logloss:0.567197\n",
            "[76]\tvalidation_0-auc:0.75417\tvalidation_0-error:0.293219\tvalidation_0-logloss:0.560498\tvalidation_1-auc:0.746152\tvalidation_1-error:0.297563\tvalidation_1-logloss:0.567111\n",
            "[77]\tvalidation_0-auc:0.754222\tvalidation_0-error:0.292958\tvalidation_0-logloss:0.560284\tvalidation_1-auc:0.746173\tvalidation_1-error:0.298038\tvalidation_1-logloss:0.566961\n",
            "[78]\tvalidation_0-auc:0.754258\tvalidation_0-error:0.292928\tvalidation_0-logloss:0.560126\tvalidation_1-auc:0.746145\tvalidation_1-error:0.297971\tvalidation_1-logloss:0.566878\n",
            "[79]\tvalidation_0-auc:0.754308\tvalidation_0-error:0.292812\tvalidation_0-logloss:0.559923\tvalidation_1-auc:0.746174\tvalidation_1-error:0.297835\tvalidation_1-logloss:0.566731\n",
            "[80]\tvalidation_0-auc:0.754363\tvalidation_0-error:0.292638\tvalidation_0-logloss:0.559727\tvalidation_1-auc:0.746194\tvalidation_1-error:0.297903\tvalidation_1-logloss:0.566598\n",
            "[81]\tvalidation_0-auc:0.754432\tvalidation_0-error:0.292405\tvalidation_0-logloss:0.559521\tvalidation_1-auc:0.746241\tvalidation_1-error:0.297971\tvalidation_1-logloss:0.566443\n",
            "[82]\tvalidation_0-auc:0.754469\tvalidation_0-error:0.29255\tvalidation_0-logloss:0.559352\tvalidation_1-auc:0.746237\tvalidation_1-error:0.297563\tvalidation_1-logloss:0.566341\n",
            "[83]\tvalidation_0-auc:0.754548\tvalidation_0-error:0.292434\tvalidation_0-logloss:0.559154\tvalidation_1-auc:0.746267\tvalidation_1-error:0.297088\tvalidation_1-logloss:0.566214\n",
            "[84]\tvalidation_0-auc:0.754571\tvalidation_0-error:0.292376\tvalidation_0-logloss:0.559021\tvalidation_1-auc:0.746261\tvalidation_1-error:0.29702\tvalidation_1-logloss:0.566141\n",
            "[85]\tvalidation_0-auc:0.754614\tvalidation_0-error:0.29255\tvalidation_0-logloss:0.558865\tvalidation_1-auc:0.74627\tvalidation_1-error:0.296545\tvalidation_1-logloss:0.566043\n",
            "[86]\tvalidation_0-auc:0.754656\tvalidation_0-error:0.292492\tvalidation_0-logloss:0.558706\tvalidation_1-auc:0.746261\tvalidation_1-error:0.296477\tvalidation_1-logloss:0.565969\n",
            "[87]\tvalidation_0-auc:0.754739\tvalidation_0-error:0.292201\tvalidation_0-logloss:0.55858\tvalidation_1-auc:0.746253\tvalidation_1-error:0.296545\tvalidation_1-logloss:0.565933\n",
            "[88]\tvalidation_0-auc:0.754815\tvalidation_0-error:0.292259\tvalidation_0-logloss:0.558419\tvalidation_1-auc:0.74626\tvalidation_1-error:0.296477\tvalidation_1-logloss:0.565843\n",
            "[89]\tvalidation_0-auc:0.754864\tvalidation_0-error:0.292085\tvalidation_0-logloss:0.558272\tvalidation_1-auc:0.746256\tvalidation_1-error:0.296749\tvalidation_1-logloss:0.565772\n",
            "[90]\tvalidation_0-auc:0.754907\tvalidation_0-error:0.291998\tvalidation_0-logloss:0.558143\tvalidation_1-auc:0.746273\tvalidation_1-error:0.296952\tvalidation_1-logloss:0.565705\n",
            "[91]\tvalidation_0-auc:0.75498\tvalidation_0-error:0.291998\tvalidation_0-logloss:0.557998\tvalidation_1-auc:0.746278\tvalidation_1-error:0.296681\tvalidation_1-logloss:0.565626\n",
            "[92]\tvalidation_0-auc:0.755056\tvalidation_0-error:0.291939\tvalidation_0-logloss:0.557858\tvalidation_1-auc:0.746311\tvalidation_1-error:0.296952\tvalidation_1-logloss:0.565545\n",
            "[93]\tvalidation_0-auc:0.755102\tvalidation_0-error:0.291852\tvalidation_0-logloss:0.557722\tvalidation_1-auc:0.746347\tvalidation_1-error:0.296749\tvalidation_1-logloss:0.565458\n",
            "[94]\tvalidation_0-auc:0.75514\tvalidation_0-error:0.291881\tvalidation_0-logloss:0.557603\tvalidation_1-auc:0.746359\tvalidation_1-error:0.296477\tvalidation_1-logloss:0.565388\n",
            "[95]\tvalidation_0-auc:0.755226\tvalidation_0-error:0.291881\tvalidation_0-logloss:0.557497\tvalidation_1-auc:0.746361\tvalidation_1-error:0.296681\tvalidation_1-logloss:0.565351\n",
            "[96]\tvalidation_0-auc:0.755283\tvalidation_0-error:0.291736\tvalidation_0-logloss:0.557371\tvalidation_1-auc:0.746401\tvalidation_1-error:0.296681\tvalidation_1-logloss:0.56527\n",
            "[97]\tvalidation_0-auc:0.755364\tvalidation_0-error:0.291765\tvalidation_0-logloss:0.55724\tvalidation_1-auc:0.746401\tvalidation_1-error:0.296613\tvalidation_1-logloss:0.56523\n",
            "[98]\tvalidation_0-auc:0.755412\tvalidation_0-error:0.292027\tvalidation_0-logloss:0.557126\tvalidation_1-auc:0.7464\tvalidation_1-error:0.296749\tvalidation_1-logloss:0.565176\n",
            "[99]\tvalidation_0-auc:0.755452\tvalidation_0-error:0.291939\tvalidation_0-logloss:0.557037\tvalidation_1-auc:0.746371\tvalidation_1-error:0.296885\tvalidation_1-logloss:0.565162\n"
          ],
          "name": "stdout"
        },
        {
          "output_type": "execute_result",
          "data": {
            "text/plain": [
              "XGBClassifier(base_score=0.5, booster='gbtree', colsample_bylevel=1,\n",
              "              colsample_bynode=1, colsample_bytree=0.7, gamma=0.1,\n",
              "              learning_rate=0.03, max_delta_step=0, max_depth=4,\n",
              "              min_child_weight=1, missing=None, n_estimators=100, n_jobs=1,\n",
              "              nthread=None, objective='binary:logistic', random_state=0,\n",
              "              reg_alpha=0, reg_lambda=1, scale_pos_weight=1, seed=None,\n",
              "              silent=None, subsample=0.8, verbosity=1)"
            ]
          },
          "metadata": {
            "tags": []
          },
          "execution_count": 154
        }
      ]
    },
    {
      "cell_type": "code",
      "metadata": {
        "id": "Lj6v2g4nriFl",
        "colab_type": "code",
        "colab": {}
      },
      "source": [
        "score1 = model1.score(X_test, y_test)\n",
        "score_tree1 = tree1.score(X_test, y_test)\n",
        "score_reg1 = reg1.score(X_test, y_test)\n",
        "score_mlp1 = mlp1.score(X_test, y_test)"
      ],
      "execution_count": 0,
      "outputs": []
    },
    {
      "cell_type": "markdown",
      "metadata": {
        "id": "KNyLeIqXqtxJ",
        "colab_type": "text"
      },
      "source": [
        "## Графики первой модели\n"
      ]
    },
    {
      "cell_type": "markdown",
      "metadata": {
        "id": "F_tacCtfq5G-",
        "colab_type": "text"
      },
      "source": [
        "## Logloss"
      ]
    },
    {
      "cell_type": "code",
      "metadata": {
        "id": "kLKBTqFTqDwx",
        "colab_type": "code",
        "colab": {
          "base_uri": "https://localhost:8080/",
          "height": 320
        },
        "outputId": "c8de0080-822a-491a-894a-1a7c28821706"
      },
      "source": [
        "plot_results(model, 'logloss')"
      ],
      "execution_count": 156,
      "outputs": [
        {
          "output_type": "display_data",
          "data": {
            "image/png": "[encoded data removed]",
            "text/plain": [
              "<Figure size 720x360 with 1 Axes>"
            ]
          },
          "metadata": {
            "tags": []
          }
        }
      ]
    },
    {
      "cell_type": "markdown",
      "metadata": {
        "id": "UlVkGto3qrnD",
        "colab_type": "text"
      },
      "source": [
        "## AUC"
      ]
    },
    {
      "cell_type": "code",
      "metadata": {
        "id": "6_2zy6cNqG6h",
        "colab_type": "code",
        "colab": {
          "base_uri": "https://localhost:8080/",
          "height": 320
        },
        "outputId": "05c42a04-b3c0-4eeb-a919-f6f9a9734053"
      },
      "source": [
        "plot_results(model, 'auc')"
      ],
      "execution_count": 157,
      "outputs": [
        {
          "output_type": "display_data",
          "data": {
            "image/png": "[encoded data removed]",
            "text/plain": [
              "<Figure size 720x360 with 1 Axes>"
            ]
          },
          "metadata": {
            "tags": []
          }
        }
      ]
    },
    {
      "cell_type": "markdown",
      "metadata": {
        "id": "Ud167k33rAP7",
        "colab_type": "text"
      },
      "source": [
        "## Графики второй модели\n"
      ]
    },
    {
      "cell_type": "markdown",
      "metadata": {
        "id": "0DbF4V9krEDL",
        "colab_type": "text"
      },
      "source": [
        "## LogLoss"
      ]
    },
    {
      "cell_type": "code",
      "metadata": {
        "id": "0iBlnCuEqaoB",
        "colab_type": "code",
        "colab": {
          "base_uri": "https://localhost:8080/",
          "height": 320
        },
        "outputId": "6969e75a-1c2d-4066-f228-351d9358cfd1"
      },
      "source": [
        "plot_results(model1, 'logloss')"
      ],
      "execution_count": 158,
      "outputs": [
        {
          "output_type": "display_data",
          "data": {
            "image/png": "[encoded data removed]",
            "text/plain": [
              "<Figure size 720x360 with 1 Axes>"
            ]
          },
          "metadata": {
            "tags": []
          }
        }
      ]
    },
    {
      "cell_type": "markdown",
      "metadata": {
        "id": "YJ3aCqxgql2-",
        "colab_type": "text"
      },
      "source": [
        "## AUC"
      ]
    },
    {
      "cell_type": "code",
      "metadata": {
        "id": "VCHv8rLfqd_O",
        "colab_type": "code",
        "colab": {
          "base_uri": "https://localhost:8080/",
          "height": 320
        },
        "outputId": "e4a69980-8081-4e4b-85da-3ba57dd1acf5"
      },
      "source": [
        "plot_results(model1, 'auc')"
      ],
      "execution_count": 159,
      "outputs": [
        {
          "output_type": "display_data",
          "data": {
            "image/png": "[encoded data removed]",
            "text/plain": [
              "<Figure size 720x360 with 1 Axes>"
            ]
          },
          "metadata": {
            "tags": []
          }
        }
      ]
    },
    {
      "cell_type": "markdown",
      "metadata": {
        "id": "eNLVJe-wrIyi",
        "colab_type": "text"
      },
      "source": [
        "## Результаты моделей"
      ]
    },
    {
      "cell_type": "code",
      "metadata": {
        "id": "Ba1fD6JprMM0",
        "colab_type": "code",
        "colab": {
          "base_uri": "https://localhost:8080/",
          "height": 106
        },
        "outputId": "9e3f0a07-b6be-4f16-f9d3-39c2841397d1"
      },
      "source": [
        "pd.DataFrame({\n",
        "    'XGB': [score, score1],\n",
        "    'Tree': [score_tree, score_tree1],\n",
        "    'LogReg': [score_reg, score_reg1],\n",
        "    'MLP': [score_mlp, score_mlp1]\n",
        "})"
      ],
      "execution_count": 160,
      "outputs": [
        {
          "output_type": "execute_result",
          "data": {
            "text/html": [
              "<div>\n",
              "<style scoped>\n",
              "    .dataframe tbody tr th:only-of-type {\n",
              "        vertical-align: middle;\n",
              "    }\n",
              "\n",
              "    .dataframe tbody tr th {\n",
              "        vertical-align: top;\n",
              "    }\n",
              "\n",
              "    .dataframe thead th {\n",
              "        text-align: right;\n",
              "    }\n",
              "</style>\n",
              "<table border=\"1\" class=\"dataframe\">\n",
              "  <thead>\n",
              "    <tr style=\"text-align: right;\">\n",
              "      <th></th>\n",
              "      <th>XGB</th>\n",
              "      <th>Tree</th>\n",
              "      <th>LogReg</th>\n",
              "      <th>MLP</th>\n",
              "    </tr>\n",
              "  </thead>\n",
              "  <tbody>\n",
              "    <tr>\n",
              "      <th>0</th>\n",
              "      <td>0.711560</td>\n",
              "      <td>0.619818</td>\n",
              "      <td>0.704078</td>\n",
              "      <td>0.683721</td>\n",
              "    </tr>\n",
              "    <tr>\n",
              "      <th>1</th>\n",
              "      <td>0.703115</td>\n",
              "      <td>0.611145</td>\n",
              "      <td>0.694631</td>\n",
              "      <td>0.696396</td>\n",
              "    </tr>\n",
              "  </tbody>\n",
              "</table>\n",
              "</div>"
            ],
            "text/plain": [
              "        XGB      Tree    LogReg       MLP\n",
              "0  0.711560  0.619818  0.704078  0.683721\n",
              "1  0.703115  0.611145  0.694631  0.696396"
            ]
          },
          "metadata": {
            "tags": []
          },
          "execution_count": 160
        }
      ]
    },
    {
      "cell_type": "code",
      "metadata": {
        "id": "pxruMpiIrZ2B",
        "colab_type": "code",
        "colab": {}
      },
      "source": [
        ""
      ],
      "execution_count": 0,
      "outputs": []
    }
  ]
}